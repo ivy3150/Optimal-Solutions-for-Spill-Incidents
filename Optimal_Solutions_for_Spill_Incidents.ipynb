{
  "nbformat": 4,
  "nbformat_minor": 0,
  "metadata": {
    "colab": {
      "name": "Optimal Solutions for Spill Incidents.ipynb",
      "provenance": [],
      "collapsed_sections": [
        "7efl9l1EjZV9",
        "To69mF4iunzx",
        "4pika3dQ4CP_",
        "XW8aUGgqvgF9",
        "FQR8QqekvnPd",
        "FHkRvG5dEZok",
        "zjVjJE5s9Wgz",
        "kueZyIgT9aXa",
        "KwTTApqH6Z0W",
        "E3xIJmlz_Jac",
        "Y_ryW0aXLWei",
        "cavoPAvqWusw"
      ],
      "toc_visible": true,
      "include_colab_link": true
    },
    "kernelspec": {
      "name": "python3",
      "display_name": "Python 3"
    },
    "language_info": {
      "name": "python"
    }
  },
  "cells": [
    {
      "cell_type": "markdown",
      "metadata": {
        "id": "view-in-github",
        "colab_type": "text"
      },
      "source": [
        "<a href=\"https://colab.research.google.com/github/ivy3150/Optimal-Solutions-for-Spill-Incidents/blob/main/Optimal_Solutions_for_Spill_Incidents.ipynb\" target=\"_parent\"><img src=\"https://colab.research.google.com/assets/colab-badge.svg\" alt=\"Open In Colab\"/></a>"
      ]
    },
    {
      "cell_type": "markdown",
      "metadata": {
        "id": "ovza2BMGDkcS"
      },
      "source": [
        "# **Project 1: Team 1**\n",
        "Ryan Dibiase,<br>\n",
        "Jiaxin Wu,<br>\n",
        "Megan Joseph,<br>\n",
        "Ping-Hsuan Chiang,<br>\n",
        "Ting-Yun Cheng<br>\n",
        "\n",
        "**Project Introduction:**<br>\n",
        "\n",
        "We apply our skills in data analysis and the brute-force algorithm to address a real-world problem in the area of sustainability. More precisely, a data set made available by Connecticut’s Department of Energy and Environmental Protection (CT DEEP). This up-to-date data set contains the list of releases of substances to the environment, generally through accidental spills, starting from July.<br>\n",
        "\n",
        "Dataset Source: [CT DEEP](https://data.ct.gov/Environment-and-Natural-Resources/Spill-Incidents/wr2a-rnsg) <br>\n",
        "\n",
        "**Project Goals:**<br>\n",
        "(1) Understand the data: what are the interesting facts and insights you can extract from this data set? <br>\n",
        "(2) Crew Scheduling: given a set of cities, how would you distribute service crews among these cities to address the incidents (and therefore reduce their environmental impact) as quickly as possible?"
      ]
    },
    {
      "cell_type": "markdown",
      "metadata": {
        "id": "PrWkxhLM2mhs"
      },
      "source": [
        "# Part 1: Data Analysis\n",
        "In this part, we started by reading and cleaning the assigned dataset, and then do the same for our external dataset. After the initial cleansing, we merge both dataset and tell some stories about what we see in the merged dataset. "
      ]
    },
    {
      "cell_type": "markdown",
      "metadata": {
        "id": "7efl9l1EjZV9"
      },
      "source": [
        "## Read the assigned dataset "
      ]
    },
    {
      "cell_type": "code",
      "metadata": {
        "colab": {
          "base_uri": "https://localhost:8080/",
          "height": 0
        },
        "id": "a_c6bNvtYBAO",
        "outputId": "f0b683c0-72eb-43a0-d4a2-6a9c51e12e38"
      },
      "source": [
        "# import packages\n",
        "# use pandas to read json file as the original dataset is too big to download it to our laptops\n",
        "\n",
        "import pandas as pd\n",
        "df=pd.read_json('https://data.ct.gov/resource/wr2a-rnsg.json')\n",
        "\n",
        "# Select the columns for our analysis\n",
        "trim = df.iloc[:,[4,5,12,13]]\n",
        "trim.head()"
      ],
      "execution_count": 37,
      "outputs": [
        {
          "output_type": "execute_result",
          "data": {
            "text/html": [
              "\n",
              "  <div id=\"df-a3e7040e-0841-4a52-a801-5e1674dd39db\">\n",
              "    <div class=\"colab-df-container\">\n",
              "      <div>\n",
              "<style scoped>\n",
              "    .dataframe tbody tr th:only-of-type {\n",
              "        vertical-align: middle;\n",
              "    }\n",
              "\n",
              "    .dataframe tbody tr th {\n",
              "        vertical-align: top;\n",
              "    }\n",
              "\n",
              "    .dataframe thead th {\n",
              "        text-align: right;\n",
              "    }\n",
              "</style>\n",
              "<table border=\"1\" class=\"dataframe\">\n",
              "  <thead>\n",
              "    <tr style=\"text-align: right;\">\n",
              "      <th></th>\n",
              "      <th>releasedatetime</th>\n",
              "      <th>townrelease</th>\n",
              "      <th>releasesubstance</th>\n",
              "      <th>quangallons</th>\n",
              "    </tr>\n",
              "  </thead>\n",
              "  <tbody>\n",
              "    <tr>\n",
              "      <th>0</th>\n",
              "      <td>2022-01-19T20:30:00.000</td>\n",
              "      <td>Glastonbury</td>\n",
              "      <td>Contents of (1) radiator</td>\n",
              "      <td>3.00</td>\n",
              "    </tr>\n",
              "    <tr>\n",
              "      <th>1</th>\n",
              "      <td>2022-01-19T17:45:00.000</td>\n",
              "      <td>Hartford</td>\n",
              "      <td>Transformer Oil -- non-detectable PCBs</td>\n",
              "      <td>50.00</td>\n",
              "    </tr>\n",
              "    <tr>\n",
              "      <th>2</th>\n",
              "      <td>2022-01-19T17:50:00.000</td>\n",
              "      <td>Canton</td>\n",
              "      <td>Motor Oil</td>\n",
              "      <td>3.00</td>\n",
              "    </tr>\n",
              "    <tr>\n",
              "      <th>3</th>\n",
              "      <td>2022-01-19T16:20:00.000</td>\n",
              "      <td>Torrington</td>\n",
              "      <td>#2 Fuel</td>\n",
              "      <td>50.00</td>\n",
              "    </tr>\n",
              "    <tr>\n",
              "      <th>4</th>\n",
              "      <td>2022-01-19T00:00:00.000</td>\n",
              "      <td>Windham</td>\n",
              "      <td>antifreeze</td>\n",
              "      <td>2.00</td>\n",
              "    </tr>\n",
              "  </tbody>\n",
              "</table>\n",
              "</div>\n",
              "      <button class=\"colab-df-convert\" onclick=\"convertToInteractive('df-a3e7040e-0841-4a52-a801-5e1674dd39db')\"\n",
              "              title=\"Convert this dataframe to an interactive table.\"\n",
              "              style=\"display:none;\">\n",
              "        \n",
              "  <svg xmlns=\"http://www.w3.org/2000/svg\" height=\"24px\"viewBox=\"0 0 24 24\"\n",
              "       width=\"24px\">\n",
              "    <path d=\"M0 0h24v24H0V0z\" fill=\"none\"/>\n",
              "    <path d=\"M18.56 5.44l.94 2.06.94-2.06 2.06-.94-2.06-.94-.94-2.06-.94 2.06-2.06.94zm-11 1L8.5 8.5l.94-2.06 2.06-.94-2.06-.94L8.5 2.5l-.94 2.06-2.06.94zm10 10l.94 2.06.94-2.06 2.06-.94-2.06-.94-.94-2.06-.94 2.06-2.06.94z\"/><path d=\"M17.41 7.96l-1.37-1.37c-.4-.4-.92-.59-1.43-.59-.52 0-1.04.2-1.43.59L10.3 9.45l-7.72 7.72c-.78.78-.78 2.05 0 2.83L4 21.41c.39.39.9.59 1.41.59.51 0 1.02-.2 1.41-.59l7.78-7.78 2.81-2.81c.8-.78.8-2.07 0-2.86zM5.41 20L4 18.59l7.72-7.72 1.47 1.35L5.41 20z\"/>\n",
              "  </svg>\n",
              "      </button>\n",
              "      \n",
              "  <style>\n",
              "    .colab-df-container {\n",
              "      display:flex;\n",
              "      flex-wrap:wrap;\n",
              "      gap: 12px;\n",
              "    }\n",
              "\n",
              "    .colab-df-convert {\n",
              "      background-color: #E8F0FE;\n",
              "      border: none;\n",
              "      border-radius: 50%;\n",
              "      cursor: pointer;\n",
              "      display: none;\n",
              "      fill: #1967D2;\n",
              "      height: 32px;\n",
              "      padding: 0 0 0 0;\n",
              "      width: 32px;\n",
              "    }\n",
              "\n",
              "    .colab-df-convert:hover {\n",
              "      background-color: #E2EBFA;\n",
              "      box-shadow: 0px 1px 2px rgba(60, 64, 67, 0.3), 0px 1px 3px 1px rgba(60, 64, 67, 0.15);\n",
              "      fill: #174EA6;\n",
              "    }\n",
              "\n",
              "    [theme=dark] .colab-df-convert {\n",
              "      background-color: #3B4455;\n",
              "      fill: #D2E3FC;\n",
              "    }\n",
              "\n",
              "    [theme=dark] .colab-df-convert:hover {\n",
              "      background-color: #434B5C;\n",
              "      box-shadow: 0px 1px 3px 1px rgba(0, 0, 0, 0.15);\n",
              "      filter: drop-shadow(0px 1px 2px rgba(0, 0, 0, 0.3));\n",
              "      fill: #FFFFFF;\n",
              "    }\n",
              "  </style>\n",
              "\n",
              "      <script>\n",
              "        const buttonEl =\n",
              "          document.querySelector('#df-a3e7040e-0841-4a52-a801-5e1674dd39db button.colab-df-convert');\n",
              "        buttonEl.style.display =\n",
              "          google.colab.kernel.accessAllowed ? 'block' : 'none';\n",
              "\n",
              "        async function convertToInteractive(key) {\n",
              "          const element = document.querySelector('#df-a3e7040e-0841-4a52-a801-5e1674dd39db');\n",
              "          const dataTable =\n",
              "            await google.colab.kernel.invokeFunction('convertToInteractive',\n",
              "                                                     [key], {});\n",
              "          if (!dataTable) return;\n",
              "\n",
              "          const docLinkHtml = 'Like what you see? Visit the ' +\n",
              "            '<a target=\"_blank\" href=https://colab.research.google.com/notebooks/data_table.ipynb>data table notebook</a>'\n",
              "            + ' to learn more about interactive tables.';\n",
              "          element.innerHTML = '';\n",
              "          dataTable['output_type'] = 'display_data';\n",
              "          await google.colab.output.renderOutput(dataTable, element);\n",
              "          const docLink = document.createElement('div');\n",
              "          docLink.innerHTML = docLinkHtml;\n",
              "          element.appendChild(docLink);\n",
              "        }\n",
              "      </script>\n",
              "    </div>\n",
              "  </div>\n",
              "  "
            ],
            "text/plain": [
              "           releasedatetime  ... quangallons\n",
              "0  2022-01-19T20:30:00.000  ...        3.00\n",
              "1  2022-01-19T17:45:00.000  ...       50.00\n",
              "2  2022-01-19T17:50:00.000  ...        3.00\n",
              "3  2022-01-19T16:20:00.000  ...       50.00\n",
              "4  2022-01-19T00:00:00.000  ...        2.00\n",
              "\n",
              "[5 rows x 4 columns]"
            ]
          },
          "metadata": {},
          "execution_count": 37
        }
      ]
    },
    {
      "cell_type": "code",
      "metadata": {
        "colab": {
          "base_uri": "https://localhost:8080/"
        },
        "id": "XgZkhdjtZqYZ",
        "outputId": "ac1c9b1c-d822-45b8-f7c5-96511bbe0d4f"
      },
      "source": [
        "# Check for null values and datatype\n",
        "# As there are just a few null values, we'll drop them \n",
        "trim.info()"
      ],
      "execution_count": 38,
      "outputs": [
        {
          "output_type": "stream",
          "name": "stdout",
          "text": [
            "<class 'pandas.core.frame.DataFrame'>\n",
            "RangeIndex: 1000 entries, 0 to 999\n",
            "Data columns (total 4 columns):\n",
            " #   Column            Non-Null Count  Dtype \n",
            "---  ------            --------------  ----- \n",
            " 0   releasedatetime   999 non-null    object\n",
            " 1   townrelease       998 non-null    object\n",
            " 2   releasesubstance  996 non-null    object\n",
            " 3   quangallons       996 non-null    object\n",
            "dtypes: object(4)\n",
            "memory usage: 31.4+ KB\n"
          ]
        }
      ]
    },
    {
      "cell_type": "markdown",
      "metadata": {
        "id": "To69mF4iunzx"
      },
      "source": [
        "## Data Preprocessing for the assigned dataset\n",
        "In this session, we check null value and decide if changing the data type of some columns is necessary. "
      ]
    },
    {
      "cell_type": "code",
      "metadata": {
        "colab": {
          "base_uri": "https://localhost:8080/"
        },
        "id": "RBJpjwrlZnds",
        "outputId": "56f4c146-2076-4a3f-9b0f-ea46c1bc13ae"
      },
      "source": [
        "# Drop null values\n",
        "trim_spill = trim.dropna()\n",
        "# check how's the non_null counts after drpping null and check data types. \n",
        "trim_spill.info()"
      ],
      "execution_count": 39,
      "outputs": [
        {
          "output_type": "stream",
          "name": "stdout",
          "text": [
            "<class 'pandas.core.frame.DataFrame'>\n",
            "Int64Index: 991 entries, 0 to 999\n",
            "Data columns (total 4 columns):\n",
            " #   Column            Non-Null Count  Dtype \n",
            "---  ------            --------------  ----- \n",
            " 0   releasedatetime   991 non-null    object\n",
            " 1   townrelease       991 non-null    object\n",
            " 2   releasesubstance  991 non-null    object\n",
            " 3   quangallons       991 non-null    object\n",
            "dtypes: object(4)\n",
            "memory usage: 38.7+ KB\n"
          ]
        }
      ]
    },
    {
      "cell_type": "code",
      "metadata": {
        "colab": {
          "base_uri": "https://localhost:8080/"
        },
        "id": "ESaufExramZy",
        "outputId": "8dcaad6b-53c3-4e56-c5f9-000bffdc55aa"
      },
      "source": [
        "# Clean column \"quangallons\" and make it numeric so that we can do further analysis.\n",
        "# Since quangallons is object type with ',', we extract only the numbers from the syntax. \n",
        "# The defined function will extract only the numbers from both sides of the ',' and combine them together\n",
        "\n",
        "import re\n",
        "def find_number(text):\n",
        "  num = re.findall(r'[0-9]+',text)\n",
        "  return \".\".join(num)\n",
        "\n",
        "# We create a new column to store our transformed quangallons\n",
        "trim_spill['quangallons'] = trim_spill['quangallons'].apply(lambda x: find_number(x))\n",
        "trim_spill['quangallons']"
      ],
      "execution_count": 40,
      "outputs": [
        {
          "output_type": "stream",
          "name": "stderr",
          "text": [
            "/usr/local/lib/python3.7/dist-packages/ipykernel_launcher.py:11: SettingWithCopyWarning: \n",
            "A value is trying to be set on a copy of a slice from a DataFrame.\n",
            "Try using .loc[row_indexer,col_indexer] = value instead\n",
            "\n",
            "See the caveats in the documentation: https://pandas.pydata.org/pandas-docs/stable/user_guide/indexing.html#returning-a-view-versus-a-copy\n",
            "  # This is added back by InteractiveShellApp.init_path()\n"
          ]
        },
        {
          "output_type": "execute_result",
          "data": {
            "text/plain": [
              "0       3.00\n",
              "1      50.00\n",
              "2       3.00\n",
              "3      50.00\n",
              "4       2.00\n",
              "       ...  \n",
              "995     3.00\n",
              "996     0.00\n",
              "997     2.00\n",
              "998    10.00\n",
              "999     2.00\n",
              "Name: quangallons, Length: 991, dtype: object"
            ]
          },
          "metadata": {},
          "execution_count": 40
        }
      ]
    },
    {
      "cell_type": "code",
      "metadata": {
        "colab": {
          "base_uri": "https://localhost:8080/"
        },
        "id": "B4Uh63LLbGBL",
        "outputId": "695b6d4a-059e-435c-fdba-a7b50eb6142e"
      },
      "source": [
        "# We convert the new quangallons column into float type\n",
        "trim_spill['quangallons'] = trim_spill['quangallons'].astype(float)\n",
        "\n",
        "# Check if the data type is correct\n",
        "trim_spill.info()"
      ],
      "execution_count": 41,
      "outputs": [
        {
          "output_type": "stream",
          "name": "stdout",
          "text": [
            "<class 'pandas.core.frame.DataFrame'>\n",
            "Int64Index: 991 entries, 0 to 999\n",
            "Data columns (total 4 columns):\n",
            " #   Column            Non-Null Count  Dtype  \n",
            "---  ------            --------------  -----  \n",
            " 0   releasedatetime   991 non-null    object \n",
            " 1   townrelease       991 non-null    object \n",
            " 2   releasesubstance  991 non-null    object \n",
            " 3   quangallons       991 non-null    float64\n",
            "dtypes: float64(1), object(3)\n",
            "memory usage: 38.7+ KB\n"
          ]
        },
        {
          "output_type": "stream",
          "name": "stderr",
          "text": [
            "/usr/local/lib/python3.7/dist-packages/ipykernel_launcher.py:2: SettingWithCopyWarning: \n",
            "A value is trying to be set on a copy of a slice from a DataFrame.\n",
            "Try using .loc[row_indexer,col_indexer] = value instead\n",
            "\n",
            "See the caveats in the documentation: https://pandas.pydata.org/pandas-docs/stable/user_guide/indexing.html#returning-a-view-versus-a-copy\n",
            "  \n"
          ]
        }
      ]
    },
    {
      "cell_type": "code",
      "metadata": {
        "colab": {
          "base_uri": "https://localhost:8080/"
        },
        "id": "A7HZp6oClEml",
        "outputId": "6ae6ae73-a0ac-4dcd-9e80-506e2bc3bfe3"
      },
      "source": [
        "# check the shape of the dataset\n",
        "print(trim_spill.shape)"
      ],
      "execution_count": 42,
      "outputs": [
        {
          "output_type": "stream",
          "name": "stdout",
          "text": [
            "(991, 4)\n"
          ]
        }
      ]
    },
    {
      "cell_type": "markdown",
      "metadata": {
        "id": "4pika3dQ4CP_"
      },
      "source": [
        "## Read external dataset\n",
        "\n",
        "------------ <br>\n",
        "This dataset is showing the amount of underground storage tanks in Connecticut. We chose this external dataset to compare the amount of underground tanks and spills and examine if there was any correlation in the data sets. We display the comparisons in some of the graphs below. <br>\n",
        "---------------<br>\n",
        "\n",
        "Source: [Underground Storage Tanks (USTs) - Facility and Tank Details](https://data.ct.gov/Environment-and-Natural-Resources/Underground-Storage-Tanks-USTs-Facility-and-Tank-D/utni-rddb)"
      ]
    },
    {
      "cell_type": "code",
      "metadata": {
        "colab": {
          "base_uri": "https://localhost:8080/"
        },
        "id": "w2yBmnU8u1Mn",
        "outputId": "270bb379-38c7-461f-ddee-95a0e7f8804d"
      },
      "source": [
        "# \bRead the external dataset \n",
        "# import packages\n",
        "# use pandas to read json file as the original dataset is too big to download it to our laptops\n",
        "\n",
        "import pandas as pd\n",
        "df1=pd.read_json('https://data.ct.gov/resource/utni-rddb.json')\n",
        "df1.info()"
      ],
      "execution_count": 43,
      "outputs": [
        {
          "output_type": "stream",
          "name": "stdout",
          "text": [
            "<class 'pandas.core.frame.DataFrame'>\n",
            "RangeIndex: 1000 entries, 0 to 999\n",
            "Data columns (total 27 columns):\n",
            " #   Column                 Non-Null Count  Dtype  \n",
            "---  ------                 --------------  -----  \n",
            " 0   agencyfacilityid       1000 non-null   object \n",
            " 1   facilitynm             1000 non-null   object \n",
            " 2   facilityaddr           1000 non-null   object \n",
            " 3   facilitycity           1000 non-null   object \n",
            " 4   facilityzip            999 non-null    float64\n",
            " 5   agencytankid           1000 non-null   object \n",
            " 6   tankstatuscd           1000 non-null   object \n",
            " 7   capacitygalsnum        1000 non-null   int64  \n",
            " 8   substancecd            951 non-null    object \n",
            " 9   tanklastuseddt         673 non-null    object \n",
            " 10  closuretypecd          785 non-null    object \n",
            " 11  tankconstructioncd     957 non-null    object \n",
            " 12  tankmodsdesc           315 non-null    object \n",
            " 13  pipeconstructioncd     852 non-null    object \n",
            " 14  pipemoddesc            357 non-null    object \n",
            " 15  installationdt         948 non-null    object \n",
            " 16  spillinstalled         336 non-null    object \n",
            " 17  overfillinstalled      309 non-null    object \n",
            " 18  tanklat                887 non-null    float64\n",
            " 19  tanklon                887 non-null    float64\n",
            " 20  tankgpssourcecd        885 non-null    object \n",
            " 21  tankgpsaccuracycd      880 non-null    object \n",
            " 22  ust_site_latitude      887 non-null    float64\n",
            " 23  ust_site_longitude     887 non-null    float64\n",
            " 24  facilitygpssourcecd    887 non-null    object \n",
            " 25  facilitygpsaccuracycd  887 non-null    object \n",
            " 26  compartmentnum         727 non-null    object \n",
            "dtypes: float64(5), int64(1), object(21)\n",
            "memory usage: 211.1+ KB\n"
          ]
        }
      ]
    },
    {
      "cell_type": "code",
      "metadata": {
        "colab": {
          "base_uri": "https://localhost:8080/",
          "height": 0
        },
        "id": "rmQ_1UDckUNG",
        "outputId": "3e9b6211-68ce-401f-a463-6f6dbf62afa8"
      },
      "source": [
        "# Keep columns that are useful for our stroy.\n",
        "# Columns include: 'site city', 'status of tank', 'estimated total capacity(gallons)', and 'substance currently stored'\n",
        "trim2 = df1.iloc[:,[3,6,7,8]]\n",
        "trim2.head()"
      ],
      "execution_count": 44,
      "outputs": [
        {
          "output_type": "execute_result",
          "data": {
            "text/html": [
              "\n",
              "  <div id=\"df-95bd1c0d-f228-409c-b94d-479ef3029ed9\">\n",
              "    <div class=\"colab-df-container\">\n",
              "      <div>\n",
              "<style scoped>\n",
              "    .dataframe tbody tr th:only-of-type {\n",
              "        vertical-align: middle;\n",
              "    }\n",
              "\n",
              "    .dataframe tbody tr th {\n",
              "        vertical-align: top;\n",
              "    }\n",
              "\n",
              "    .dataframe thead th {\n",
              "        text-align: right;\n",
              "    }\n",
              "</style>\n",
              "<table border=\"1\" class=\"dataframe\">\n",
              "  <thead>\n",
              "    <tr style=\"text-align: right;\">\n",
              "      <th></th>\n",
              "      <th>facilitycity</th>\n",
              "      <th>tankstatuscd</th>\n",
              "      <th>capacitygalsnum</th>\n",
              "      <th>substancecd</th>\n",
              "    </tr>\n",
              "  </thead>\n",
              "  <tbody>\n",
              "    <tr>\n",
              "      <th>0</th>\n",
              "      <td>ESSEX</td>\n",
              "      <td>Permanently Closed</td>\n",
              "      <td>4000</td>\n",
              "      <td>Gasoline</td>\n",
              "    </tr>\n",
              "    <tr>\n",
              "      <th>1</th>\n",
              "      <td>OLD SAYBROOK</td>\n",
              "      <td>Permanently Closed</td>\n",
              "      <td>10000</td>\n",
              "      <td>Diesel</td>\n",
              "    </tr>\n",
              "    <tr>\n",
              "      <th>2</th>\n",
              "      <td>BRISTOL</td>\n",
              "      <td>Permanently Closed</td>\n",
              "      <td>1000</td>\n",
              "      <td>Used Oil</td>\n",
              "    </tr>\n",
              "    <tr>\n",
              "      <th>3</th>\n",
              "      <td>NAUGATUCK</td>\n",
              "      <td>Permanently Closed</td>\n",
              "      <td>2000</td>\n",
              "      <td>Gasoline</td>\n",
              "    </tr>\n",
              "    <tr>\n",
              "      <th>4</th>\n",
              "      <td>SIMSBURY</td>\n",
              "      <td>Permanently Closed</td>\n",
              "      <td>8000</td>\n",
              "      <td>Gasoline</td>\n",
              "    </tr>\n",
              "  </tbody>\n",
              "</table>\n",
              "</div>\n",
              "      <button class=\"colab-df-convert\" onclick=\"convertToInteractive('df-95bd1c0d-f228-409c-b94d-479ef3029ed9')\"\n",
              "              title=\"Convert this dataframe to an interactive table.\"\n",
              "              style=\"display:none;\">\n",
              "        \n",
              "  <svg xmlns=\"http://www.w3.org/2000/svg\" height=\"24px\"viewBox=\"0 0 24 24\"\n",
              "       width=\"24px\">\n",
              "    <path d=\"M0 0h24v24H0V0z\" fill=\"none\"/>\n",
              "    <path d=\"M18.56 5.44l.94 2.06.94-2.06 2.06-.94-2.06-.94-.94-2.06-.94 2.06-2.06.94zm-11 1L8.5 8.5l.94-2.06 2.06-.94-2.06-.94L8.5 2.5l-.94 2.06-2.06.94zm10 10l.94 2.06.94-2.06 2.06-.94-2.06-.94-.94-2.06-.94 2.06-2.06.94z\"/><path d=\"M17.41 7.96l-1.37-1.37c-.4-.4-.92-.59-1.43-.59-.52 0-1.04.2-1.43.59L10.3 9.45l-7.72 7.72c-.78.78-.78 2.05 0 2.83L4 21.41c.39.39.9.59 1.41.59.51 0 1.02-.2 1.41-.59l7.78-7.78 2.81-2.81c.8-.78.8-2.07 0-2.86zM5.41 20L4 18.59l7.72-7.72 1.47 1.35L5.41 20z\"/>\n",
              "  </svg>\n",
              "      </button>\n",
              "      \n",
              "  <style>\n",
              "    .colab-df-container {\n",
              "      display:flex;\n",
              "      flex-wrap:wrap;\n",
              "      gap: 12px;\n",
              "    }\n",
              "\n",
              "    .colab-df-convert {\n",
              "      background-color: #E8F0FE;\n",
              "      border: none;\n",
              "      border-radius: 50%;\n",
              "      cursor: pointer;\n",
              "      display: none;\n",
              "      fill: #1967D2;\n",
              "      height: 32px;\n",
              "      padding: 0 0 0 0;\n",
              "      width: 32px;\n",
              "    }\n",
              "\n",
              "    .colab-df-convert:hover {\n",
              "      background-color: #E2EBFA;\n",
              "      box-shadow: 0px 1px 2px rgba(60, 64, 67, 0.3), 0px 1px 3px 1px rgba(60, 64, 67, 0.15);\n",
              "      fill: #174EA6;\n",
              "    }\n",
              "\n",
              "    [theme=dark] .colab-df-convert {\n",
              "      background-color: #3B4455;\n",
              "      fill: #D2E3FC;\n",
              "    }\n",
              "\n",
              "    [theme=dark] .colab-df-convert:hover {\n",
              "      background-color: #434B5C;\n",
              "      box-shadow: 0px 1px 3px 1px rgba(0, 0, 0, 0.15);\n",
              "      filter: drop-shadow(0px 1px 2px rgba(0, 0, 0, 0.3));\n",
              "      fill: #FFFFFF;\n",
              "    }\n",
              "  </style>\n",
              "\n",
              "      <script>\n",
              "        const buttonEl =\n",
              "          document.querySelector('#df-95bd1c0d-f228-409c-b94d-479ef3029ed9 button.colab-df-convert');\n",
              "        buttonEl.style.display =\n",
              "          google.colab.kernel.accessAllowed ? 'block' : 'none';\n",
              "\n",
              "        async function convertToInteractive(key) {\n",
              "          const element = document.querySelector('#df-95bd1c0d-f228-409c-b94d-479ef3029ed9');\n",
              "          const dataTable =\n",
              "            await google.colab.kernel.invokeFunction('convertToInteractive',\n",
              "                                                     [key], {});\n",
              "          if (!dataTable) return;\n",
              "\n",
              "          const docLinkHtml = 'Like what you see? Visit the ' +\n",
              "            '<a target=\"_blank\" href=https://colab.research.google.com/notebooks/data_table.ipynb>data table notebook</a>'\n",
              "            + ' to learn more about interactive tables.';\n",
              "          element.innerHTML = '';\n",
              "          dataTable['output_type'] = 'display_data';\n",
              "          await google.colab.output.renderOutput(dataTable, element);\n",
              "          const docLink = document.createElement('div');\n",
              "          docLink.innerHTML = docLinkHtml;\n",
              "          element.appendChild(docLink);\n",
              "        }\n",
              "      </script>\n",
              "    </div>\n",
              "  </div>\n",
              "  "
            ],
            "text/plain": [
              "   facilitycity        tankstatuscd  capacitygalsnum substancecd\n",
              "0         ESSEX  Permanently Closed             4000    Gasoline\n",
              "1  OLD SAYBROOK  Permanently Closed            10000      Diesel\n",
              "2       BRISTOL  Permanently Closed             1000    Used Oil\n",
              "3     NAUGATUCK  Permanently Closed             2000    Gasoline\n",
              "4      SIMSBURY  Permanently Closed             8000    Gasoline"
            ]
          },
          "metadata": {},
          "execution_count": 44
        }
      ]
    },
    {
      "cell_type": "code",
      "metadata": {
        "colab": {
          "base_uri": "https://localhost:8080/"
        },
        "id": "3sZ4BDcek3NU",
        "outputId": "1a111b2a-4068-49f9-932d-b121e94e7ae1"
      },
      "source": [
        "# Check missing values\n",
        "trim2.info()"
      ],
      "execution_count": 45,
      "outputs": [
        {
          "output_type": "stream",
          "name": "stdout",
          "text": [
            "<class 'pandas.core.frame.DataFrame'>\n",
            "RangeIndex: 1000 entries, 0 to 999\n",
            "Data columns (total 4 columns):\n",
            " #   Column           Non-Null Count  Dtype \n",
            "---  ------           --------------  ----- \n",
            " 0   facilitycity     1000 non-null   object\n",
            " 1   tankstatuscd     1000 non-null   object\n",
            " 2   capacitygalsnum  1000 non-null   int64 \n",
            " 3   substancecd      951 non-null    object\n",
            "dtypes: int64(1), object(3)\n",
            "memory usage: 31.4+ KB\n"
          ]
        }
      ]
    },
    {
      "cell_type": "markdown",
      "metadata": {
        "id": "XW8aUGgqvgF9"
      },
      "source": [
        "## Data preprocessing for external data\n",
        "We did the same for the external data as stated above for the assigned dataset. We dropped null values, assessed changing data types, and dropped unnecessary columns for comparison. "
      ]
    },
    {
      "cell_type": "code",
      "metadata": {
        "colab": {
          "base_uri": "https://localhost:8080/"
        },
        "id": "x2o_hPCHkpkQ",
        "outputId": "186305c7-c780-4ff2-d797-483f01ef6bd3"
      },
      "source": [
        "# Drop null values\n",
        "trim2_final = trim2.dropna()\n",
        "trim2_final.info()"
      ],
      "execution_count": 46,
      "outputs": [
        {
          "output_type": "stream",
          "name": "stdout",
          "text": [
            "<class 'pandas.core.frame.DataFrame'>\n",
            "Int64Index: 951 entries, 0 to 999\n",
            "Data columns (total 4 columns):\n",
            " #   Column           Non-Null Count  Dtype \n",
            "---  ------           --------------  ----- \n",
            " 0   facilitycity     951 non-null    object\n",
            " 1   tankstatuscd     951 non-null    object\n",
            " 2   capacitygalsnum  951 non-null    int64 \n",
            " 3   substancecd      951 non-null    object\n",
            "dtypes: int64(1), object(3)\n",
            "memory usage: 37.1+ KB\n"
          ]
        }
      ]
    },
    {
      "cell_type": "code",
      "metadata": {
        "colab": {
          "base_uri": "https://localhost:8080/",
          "height": 0
        },
        "id": "6FXJRlDDlM8n",
        "outputId": "fd48a598-0175-435a-92e9-7ac65e1f8249"
      },
      "source": [
        "# eliminate \"Permanently Closed\" tanks as we want to find the relationship between functional tank and spill incidents\n",
        "# User \"not equal\" (!=) to filter our data\n",
        "trim_tank = trim2_final[trim2_final.tankstatuscd != 'Permanently Closed']\n",
        "# trim_tank.info()\n",
        "trim_tank.head(5)"
      ],
      "execution_count": 47,
      "outputs": [
        {
          "output_type": "execute_result",
          "data": {
            "text/html": [
              "\n",
              "  <div id=\"df-2defedbe-a206-46be-ab4f-7f8fba5a93c2\">\n",
              "    <div class=\"colab-df-container\">\n",
              "      <div>\n",
              "<style scoped>\n",
              "    .dataframe tbody tr th:only-of-type {\n",
              "        vertical-align: middle;\n",
              "    }\n",
              "\n",
              "    .dataframe tbody tr th {\n",
              "        vertical-align: top;\n",
              "    }\n",
              "\n",
              "    .dataframe thead th {\n",
              "        text-align: right;\n",
              "    }\n",
              "</style>\n",
              "<table border=\"1\" class=\"dataframe\">\n",
              "  <thead>\n",
              "    <tr style=\"text-align: right;\">\n",
              "      <th></th>\n",
              "      <th>facilitycity</th>\n",
              "      <th>tankstatuscd</th>\n",
              "      <th>capacitygalsnum</th>\n",
              "      <th>substancecd</th>\n",
              "    </tr>\n",
              "  </thead>\n",
              "  <tbody>\n",
              "    <tr>\n",
              "      <th>9</th>\n",
              "      <td>HARTFORD</td>\n",
              "      <td>Currently In Use</td>\n",
              "      <td>10000</td>\n",
              "      <td>Gasoline</td>\n",
              "    </tr>\n",
              "    <tr>\n",
              "      <th>22</th>\n",
              "      <td>WETHERSFIELD</td>\n",
              "      <td>Currently In Use</td>\n",
              "      <td>6000</td>\n",
              "      <td>Diesel</td>\n",
              "    </tr>\n",
              "    <tr>\n",
              "      <th>23</th>\n",
              "      <td>BRIDGEPORT</td>\n",
              "      <td>Currently In Use</td>\n",
              "      <td>5000</td>\n",
              "      <td>Gasoline</td>\n",
              "    </tr>\n",
              "    <tr>\n",
              "      <th>26</th>\n",
              "      <td>HARTFORD</td>\n",
              "      <td>Currently In Use</td>\n",
              "      <td>6000</td>\n",
              "      <td>Gasoline</td>\n",
              "    </tr>\n",
              "    <tr>\n",
              "      <th>31</th>\n",
              "      <td>WATERTOWN</td>\n",
              "      <td>Currently In Use</td>\n",
              "      <td>10000</td>\n",
              "      <td>E-15</td>\n",
              "    </tr>\n",
              "  </tbody>\n",
              "</table>\n",
              "</div>\n",
              "      <button class=\"colab-df-convert\" onclick=\"convertToInteractive('df-2defedbe-a206-46be-ab4f-7f8fba5a93c2')\"\n",
              "              title=\"Convert this dataframe to an interactive table.\"\n",
              "              style=\"display:none;\">\n",
              "        \n",
              "  <svg xmlns=\"http://www.w3.org/2000/svg\" height=\"24px\"viewBox=\"0 0 24 24\"\n",
              "       width=\"24px\">\n",
              "    <path d=\"M0 0h24v24H0V0z\" fill=\"none\"/>\n",
              "    <path d=\"M18.56 5.44l.94 2.06.94-2.06 2.06-.94-2.06-.94-.94-2.06-.94 2.06-2.06.94zm-11 1L8.5 8.5l.94-2.06 2.06-.94-2.06-.94L8.5 2.5l-.94 2.06-2.06.94zm10 10l.94 2.06.94-2.06 2.06-.94-2.06-.94-.94-2.06-.94 2.06-2.06.94z\"/><path d=\"M17.41 7.96l-1.37-1.37c-.4-.4-.92-.59-1.43-.59-.52 0-1.04.2-1.43.59L10.3 9.45l-7.72 7.72c-.78.78-.78 2.05 0 2.83L4 21.41c.39.39.9.59 1.41.59.51 0 1.02-.2 1.41-.59l7.78-7.78 2.81-2.81c.8-.78.8-2.07 0-2.86zM5.41 20L4 18.59l7.72-7.72 1.47 1.35L5.41 20z\"/>\n",
              "  </svg>\n",
              "      </button>\n",
              "      \n",
              "  <style>\n",
              "    .colab-df-container {\n",
              "      display:flex;\n",
              "      flex-wrap:wrap;\n",
              "      gap: 12px;\n",
              "    }\n",
              "\n",
              "    .colab-df-convert {\n",
              "      background-color: #E8F0FE;\n",
              "      border: none;\n",
              "      border-radius: 50%;\n",
              "      cursor: pointer;\n",
              "      display: none;\n",
              "      fill: #1967D2;\n",
              "      height: 32px;\n",
              "      padding: 0 0 0 0;\n",
              "      width: 32px;\n",
              "    }\n",
              "\n",
              "    .colab-df-convert:hover {\n",
              "      background-color: #E2EBFA;\n",
              "      box-shadow: 0px 1px 2px rgba(60, 64, 67, 0.3), 0px 1px 3px 1px rgba(60, 64, 67, 0.15);\n",
              "      fill: #174EA6;\n",
              "    }\n",
              "\n",
              "    [theme=dark] .colab-df-convert {\n",
              "      background-color: #3B4455;\n",
              "      fill: #D2E3FC;\n",
              "    }\n",
              "\n",
              "    [theme=dark] .colab-df-convert:hover {\n",
              "      background-color: #434B5C;\n",
              "      box-shadow: 0px 1px 3px 1px rgba(0, 0, 0, 0.15);\n",
              "      filter: drop-shadow(0px 1px 2px rgba(0, 0, 0, 0.3));\n",
              "      fill: #FFFFFF;\n",
              "    }\n",
              "  </style>\n",
              "\n",
              "      <script>\n",
              "        const buttonEl =\n",
              "          document.querySelector('#df-2defedbe-a206-46be-ab4f-7f8fba5a93c2 button.colab-df-convert');\n",
              "        buttonEl.style.display =\n",
              "          google.colab.kernel.accessAllowed ? 'block' : 'none';\n",
              "\n",
              "        async function convertToInteractive(key) {\n",
              "          const element = document.querySelector('#df-2defedbe-a206-46be-ab4f-7f8fba5a93c2');\n",
              "          const dataTable =\n",
              "            await google.colab.kernel.invokeFunction('convertToInteractive',\n",
              "                                                     [key], {});\n",
              "          if (!dataTable) return;\n",
              "\n",
              "          const docLinkHtml = 'Like what you see? Visit the ' +\n",
              "            '<a target=\"_blank\" href=https://colab.research.google.com/notebooks/data_table.ipynb>data table notebook</a>'\n",
              "            + ' to learn more about interactive tables.';\n",
              "          element.innerHTML = '';\n",
              "          dataTable['output_type'] = 'display_data';\n",
              "          await google.colab.output.renderOutput(dataTable, element);\n",
              "          const docLink = document.createElement('div');\n",
              "          docLink.innerHTML = docLinkHtml;\n",
              "          element.appendChild(docLink);\n",
              "        }\n",
              "      </script>\n",
              "    </div>\n",
              "  </div>\n",
              "  "
            ],
            "text/plain": [
              "    facilitycity      tankstatuscd  capacitygalsnum substancecd\n",
              "9       HARTFORD  Currently In Use            10000    Gasoline\n",
              "22  WETHERSFIELD  Currently In Use             6000      Diesel\n",
              "23    BRIDGEPORT  Currently In Use             5000    Gasoline\n",
              "26      HARTFORD  Currently In Use             6000    Gasoline\n",
              "31     WATERTOWN  Currently In Use            10000        E-15"
            ]
          },
          "metadata": {},
          "execution_count": 47
        }
      ]
    },
    {
      "cell_type": "markdown",
      "metadata": {
        "id": "FQR8QqekvnPd"
      },
      "source": [
        "## Merge original dataset with external dataset\n",
        "We decided to merge the two datasets using the common columns from each dataset. "
      ]
    },
    {
      "cell_type": "code",
      "metadata": {
        "colab": {
          "base_uri": "https://localhost:8080/",
          "height": 0
        },
        "id": "xN_0i4ealgBw",
        "outputId": "87970ca2-265e-4605-c6b3-fcd4d21b4f59"
      },
      "source": [
        "# Merge the two datasets, joined on their town name\n",
        "# choosing the two columns of town names that are similar, \n",
        "# this is where we merge both of the dataframes to become one cohesive data set \n",
        "df = trim_spill.merge(trim_tank, left_on='townrelease', right_on='facilitycity')\n",
        "# check what the merged data set looks like\n",
        "df.head(10)"
      ],
      "execution_count": 48,
      "outputs": [
        {
          "output_type": "execute_result",
          "data": {
            "text/html": [
              "\n",
              "  <div id=\"df-c4eb30d9-5795-4c29-bf2a-b23416a86ce8\">\n",
              "    <div class=\"colab-df-container\">\n",
              "      <div>\n",
              "<style scoped>\n",
              "    .dataframe tbody tr th:only-of-type {\n",
              "        vertical-align: middle;\n",
              "    }\n",
              "\n",
              "    .dataframe tbody tr th {\n",
              "        vertical-align: top;\n",
              "    }\n",
              "\n",
              "    .dataframe thead th {\n",
              "        text-align: right;\n",
              "    }\n",
              "</style>\n",
              "<table border=\"1\" class=\"dataframe\">\n",
              "  <thead>\n",
              "    <tr style=\"text-align: right;\">\n",
              "      <th></th>\n",
              "      <th>releasedatetime</th>\n",
              "      <th>townrelease</th>\n",
              "      <th>releasesubstance</th>\n",
              "      <th>quangallons</th>\n",
              "      <th>facilitycity</th>\n",
              "      <th>tankstatuscd</th>\n",
              "      <th>capacitygalsnum</th>\n",
              "      <th>substancecd</th>\n",
              "    </tr>\n",
              "  </thead>\n",
              "  <tbody>\n",
              "    <tr>\n",
              "      <th>0</th>\n",
              "      <td>2022-01-19T17:45:00.000</td>\n",
              "      <td>Hartford</td>\n",
              "      <td>Transformer Oil -- non-detectable PCBs</td>\n",
              "      <td>50.0</td>\n",
              "      <td>Hartford</td>\n",
              "      <td>Currently In Use</td>\n",
              "      <td>10000</td>\n",
              "      <td>Gasoline</td>\n",
              "    </tr>\n",
              "    <tr>\n",
              "      <th>1</th>\n",
              "      <td>2022-01-13T00:00:00.000</td>\n",
              "      <td>Hartford</td>\n",
              "      <td>Unknown</td>\n",
              "      <td>0.0</td>\n",
              "      <td>Hartford</td>\n",
              "      <td>Currently In Use</td>\n",
              "      <td>10000</td>\n",
              "      <td>Gasoline</td>\n",
              "    </tr>\n",
              "    <tr>\n",
              "      <th>2</th>\n",
              "      <td>2022-01-04T00:00:00.000</td>\n",
              "      <td>Hartford</td>\n",
              "      <td>HYDRAULIC OIL</td>\n",
              "      <td>5.0</td>\n",
              "      <td>Hartford</td>\n",
              "      <td>Currently In Use</td>\n",
              "      <td>10000</td>\n",
              "      <td>Gasoline</td>\n",
              "    </tr>\n",
              "    <tr>\n",
              "      <th>3</th>\n",
              "      <td>2022-01-01T00:00:00.000</td>\n",
              "      <td>Hartford</td>\n",
              "      <td>ANTIFREEZE</td>\n",
              "      <td>2.0</td>\n",
              "      <td>Hartford</td>\n",
              "      <td>Currently In Use</td>\n",
              "      <td>10000</td>\n",
              "      <td>Gasoline</td>\n",
              "    </tr>\n",
              "    <tr>\n",
              "      <th>4</th>\n",
              "      <td>2021-12-28T00:00:00.000</td>\n",
              "      <td>Hartford</td>\n",
              "      <td>motor oil</td>\n",
              "      <td>0.0</td>\n",
              "      <td>Hartford</td>\n",
              "      <td>Currently In Use</td>\n",
              "      <td>10000</td>\n",
              "      <td>Gasoline</td>\n",
              "    </tr>\n",
              "    <tr>\n",
              "      <th>5</th>\n",
              "      <td>2021-12-22T00:00:00.000</td>\n",
              "      <td>Hartford</td>\n",
              "      <td>#2 FUEL OIL</td>\n",
              "      <td>5.0</td>\n",
              "      <td>Hartford</td>\n",
              "      <td>Currently In Use</td>\n",
              "      <td>10000</td>\n",
              "      <td>Gasoline</td>\n",
              "    </tr>\n",
              "    <tr>\n",
              "      <th>6</th>\n",
              "      <td>2021-12-22T00:00:00.000</td>\n",
              "      <td>Hartford</td>\n",
              "      <td>MOTOR VEHICLE FLUIDS</td>\n",
              "      <td>0.0</td>\n",
              "      <td>Hartford</td>\n",
              "      <td>Currently In Use</td>\n",
              "      <td>10000</td>\n",
              "      <td>Gasoline</td>\n",
              "    </tr>\n",
              "    <tr>\n",
              "      <th>7</th>\n",
              "      <td>2021-12-21T00:00:00.000</td>\n",
              "      <td>Hartford</td>\n",
              "      <td>hydraulic oil</td>\n",
              "      <td>20.0</td>\n",
              "      <td>Hartford</td>\n",
              "      <td>Currently In Use</td>\n",
              "      <td>10000</td>\n",
              "      <td>Gasoline</td>\n",
              "    </tr>\n",
              "    <tr>\n",
              "      <th>8</th>\n",
              "      <td>2021-12-21T00:00:00.000</td>\n",
              "      <td>Hartford</td>\n",
              "      <td>TRANSFORMER OIL</td>\n",
              "      <td>1.0</td>\n",
              "      <td>Hartford</td>\n",
              "      <td>Currently In Use</td>\n",
              "      <td>10000</td>\n",
              "      <td>Gasoline</td>\n",
              "    </tr>\n",
              "    <tr>\n",
              "      <th>9</th>\n",
              "      <td>2021-12-18T00:00:00.000</td>\n",
              "      <td>Hartford</td>\n",
              "      <td>GASOLINE &amp; ENGINE FLUIDS</td>\n",
              "      <td>0.0</td>\n",
              "      <td>Hartford</td>\n",
              "      <td>Currently In Use</td>\n",
              "      <td>10000</td>\n",
              "      <td>Gasoline</td>\n",
              "    </tr>\n",
              "  </tbody>\n",
              "</table>\n",
              "</div>\n",
              "      <button class=\"colab-df-convert\" onclick=\"convertToInteractive('df-c4eb30d9-5795-4c29-bf2a-b23416a86ce8')\"\n",
              "              title=\"Convert this dataframe to an interactive table.\"\n",
              "              style=\"display:none;\">\n",
              "        \n",
              "  <svg xmlns=\"http://www.w3.org/2000/svg\" height=\"24px\"viewBox=\"0 0 24 24\"\n",
              "       width=\"24px\">\n",
              "    <path d=\"M0 0h24v24H0V0z\" fill=\"none\"/>\n",
              "    <path d=\"M18.56 5.44l.94 2.06.94-2.06 2.06-.94-2.06-.94-.94-2.06-.94 2.06-2.06.94zm-11 1L8.5 8.5l.94-2.06 2.06-.94-2.06-.94L8.5 2.5l-.94 2.06-2.06.94zm10 10l.94 2.06.94-2.06 2.06-.94-2.06-.94-.94-2.06-.94 2.06-2.06.94z\"/><path d=\"M17.41 7.96l-1.37-1.37c-.4-.4-.92-.59-1.43-.59-.52 0-1.04.2-1.43.59L10.3 9.45l-7.72 7.72c-.78.78-.78 2.05 0 2.83L4 21.41c.39.39.9.59 1.41.59.51 0 1.02-.2 1.41-.59l7.78-7.78 2.81-2.81c.8-.78.8-2.07 0-2.86zM5.41 20L4 18.59l7.72-7.72 1.47 1.35L5.41 20z\"/>\n",
              "  </svg>\n",
              "      </button>\n",
              "      \n",
              "  <style>\n",
              "    .colab-df-container {\n",
              "      display:flex;\n",
              "      flex-wrap:wrap;\n",
              "      gap: 12px;\n",
              "    }\n",
              "\n",
              "    .colab-df-convert {\n",
              "      background-color: #E8F0FE;\n",
              "      border: none;\n",
              "      border-radius: 50%;\n",
              "      cursor: pointer;\n",
              "      display: none;\n",
              "      fill: #1967D2;\n",
              "      height: 32px;\n",
              "      padding: 0 0 0 0;\n",
              "      width: 32px;\n",
              "    }\n",
              "\n",
              "    .colab-df-convert:hover {\n",
              "      background-color: #E2EBFA;\n",
              "      box-shadow: 0px 1px 2px rgba(60, 64, 67, 0.3), 0px 1px 3px 1px rgba(60, 64, 67, 0.15);\n",
              "      fill: #174EA6;\n",
              "    }\n",
              "\n",
              "    [theme=dark] .colab-df-convert {\n",
              "      background-color: #3B4455;\n",
              "      fill: #D2E3FC;\n",
              "    }\n",
              "\n",
              "    [theme=dark] .colab-df-convert:hover {\n",
              "      background-color: #434B5C;\n",
              "      box-shadow: 0px 1px 3px 1px rgba(0, 0, 0, 0.15);\n",
              "      filter: drop-shadow(0px 1px 2px rgba(0, 0, 0, 0.3));\n",
              "      fill: #FFFFFF;\n",
              "    }\n",
              "  </style>\n",
              "\n",
              "      <script>\n",
              "        const buttonEl =\n",
              "          document.querySelector('#df-c4eb30d9-5795-4c29-bf2a-b23416a86ce8 button.colab-df-convert');\n",
              "        buttonEl.style.display =\n",
              "          google.colab.kernel.accessAllowed ? 'block' : 'none';\n",
              "\n",
              "        async function convertToInteractive(key) {\n",
              "          const element = document.querySelector('#df-c4eb30d9-5795-4c29-bf2a-b23416a86ce8');\n",
              "          const dataTable =\n",
              "            await google.colab.kernel.invokeFunction('convertToInteractive',\n",
              "                                                     [key], {});\n",
              "          if (!dataTable) return;\n",
              "\n",
              "          const docLinkHtml = 'Like what you see? Visit the ' +\n",
              "            '<a target=\"_blank\" href=https://colab.research.google.com/notebooks/data_table.ipynb>data table notebook</a>'\n",
              "            + ' to learn more about interactive tables.';\n",
              "          element.innerHTML = '';\n",
              "          dataTable['output_type'] = 'display_data';\n",
              "          await google.colab.output.renderOutput(dataTable, element);\n",
              "          const docLink = document.createElement('div');\n",
              "          docLink.innerHTML = docLinkHtml;\n",
              "          element.appendChild(docLink);\n",
              "        }\n",
              "      </script>\n",
              "    </div>\n",
              "  </div>\n",
              "  "
            ],
            "text/plain": [
              "           releasedatetime townrelease  ... capacitygalsnum  substancecd\n",
              "0  2022-01-19T17:45:00.000    Hartford  ...           10000     Gasoline\n",
              "1  2022-01-13T00:00:00.000    Hartford  ...           10000     Gasoline\n",
              "2  2022-01-04T00:00:00.000    Hartford  ...           10000     Gasoline\n",
              "3  2022-01-01T00:00:00.000    Hartford  ...           10000     Gasoline\n",
              "4  2021-12-28T00:00:00.000    Hartford  ...           10000     Gasoline\n",
              "5  2021-12-22T00:00:00.000    Hartford  ...           10000     Gasoline\n",
              "6  2021-12-22T00:00:00.000    Hartford  ...           10000     Gasoline\n",
              "7  2021-12-21T00:00:00.000    Hartford  ...           10000     Gasoline\n",
              "8  2021-12-21T00:00:00.000    Hartford  ...           10000     Gasoline\n",
              "9  2021-12-18T00:00:00.000    Hartford  ...           10000     Gasoline\n",
              "\n",
              "[10 rows x 8 columns]"
            ]
          },
          "metadata": {},
          "execution_count": 48
        }
      ]
    },
    {
      "cell_type": "code",
      "metadata": {
        "colab": {
          "base_uri": "https://localhost:8080/"
        },
        "id": "0zQ-HJ91mc3V",
        "outputId": "94baf4ee-d0e1-4677-bc7c-750188358ab9"
      },
      "source": [
        "# check the shape of the merged data set\n",
        "df.shape"
      ],
      "execution_count": 49,
      "outputs": [
        {
          "output_type": "execute_result",
          "data": {
            "text/plain": [
              "(444, 8)"
            ]
          },
          "metadata": {},
          "execution_count": 49
        }
      ]
    },
    {
      "cell_type": "code",
      "metadata": {
        "colab": {
          "base_uri": "https://localhost:8080/"
        },
        "id": "KLZwMukDby_A",
        "outputId": "4ddece00-2bbd-45a9-f753-47973c16f8fa"
      },
      "source": [
        "# For releasedatetime column, as we want to know if there is any specific year/month have the highest incidents, \n",
        "# we get rid of time element, keep only date format\n",
        "\n",
        "import datetime\n",
        "\n",
        "# create a function to creates a datetime object, and return only date info\n",
        "def convertDate(d):\n",
        "     new_date = datetime.datetime.strptime(d,\"%Y-%m-%dT%H:%M:%S.%f\")\n",
        "     return new_date.date()\n",
        "\n",
        "# Apply above function to the whole datetime column\n",
        "df['releasedatetime'] = df['releasedatetime'].apply(convertDate)\n",
        "df['releasedatetime']\n",
        "\n",
        "df['releasedatetime'] = pd.to_datetime(df['releasedatetime'])\n",
        "df['releasedatetime']"
      ],
      "execution_count": 50,
      "outputs": [
        {
          "output_type": "execute_result",
          "data": {
            "text/plain": [
              "0     2022-01-19\n",
              "1     2022-01-13\n",
              "2     2022-01-04\n",
              "3     2022-01-01\n",
              "4     2021-12-28\n",
              "         ...    \n",
              "439   2021-11-27\n",
              "440   2021-11-27\n",
              "441   2021-11-27\n",
              "442   2021-11-27\n",
              "443   2021-11-18\n",
              "Name: releasedatetime, Length: 444, dtype: datetime64[ns]"
            ]
          },
          "metadata": {},
          "execution_count": 50
        }
      ]
    },
    {
      "cell_type": "code",
      "metadata": {
        "colab": {
          "base_uri": "https://localhost:8080/",
          "height": 0
        },
        "id": "Yu22M-X0orqs",
        "outputId": "1bc7e4f2-2417-40f7-b21a-d3535ca9f8c8"
      },
      "source": [
        "# check the date format\n",
        "df.head()"
      ],
      "execution_count": 51,
      "outputs": [
        {
          "output_type": "execute_result",
          "data": {
            "text/html": [
              "\n",
              "  <div id=\"df-379e1e8d-de93-4dd8-8cd6-2b9309e2bdc8\">\n",
              "    <div class=\"colab-df-container\">\n",
              "      <div>\n",
              "<style scoped>\n",
              "    .dataframe tbody tr th:only-of-type {\n",
              "        vertical-align: middle;\n",
              "    }\n",
              "\n",
              "    .dataframe tbody tr th {\n",
              "        vertical-align: top;\n",
              "    }\n",
              "\n",
              "    .dataframe thead th {\n",
              "        text-align: right;\n",
              "    }\n",
              "</style>\n",
              "<table border=\"1\" class=\"dataframe\">\n",
              "  <thead>\n",
              "    <tr style=\"text-align: right;\">\n",
              "      <th></th>\n",
              "      <th>releasedatetime</th>\n",
              "      <th>townrelease</th>\n",
              "      <th>releasesubstance</th>\n",
              "      <th>quangallons</th>\n",
              "      <th>facilitycity</th>\n",
              "      <th>tankstatuscd</th>\n",
              "      <th>capacitygalsnum</th>\n",
              "      <th>substancecd</th>\n",
              "    </tr>\n",
              "  </thead>\n",
              "  <tbody>\n",
              "    <tr>\n",
              "      <th>0</th>\n",
              "      <td>2022-01-19</td>\n",
              "      <td>Hartford</td>\n",
              "      <td>Transformer Oil -- non-detectable PCBs</td>\n",
              "      <td>50.0</td>\n",
              "      <td>Hartford</td>\n",
              "      <td>Currently In Use</td>\n",
              "      <td>10000</td>\n",
              "      <td>Gasoline</td>\n",
              "    </tr>\n",
              "    <tr>\n",
              "      <th>1</th>\n",
              "      <td>2022-01-13</td>\n",
              "      <td>Hartford</td>\n",
              "      <td>Unknown</td>\n",
              "      <td>0.0</td>\n",
              "      <td>Hartford</td>\n",
              "      <td>Currently In Use</td>\n",
              "      <td>10000</td>\n",
              "      <td>Gasoline</td>\n",
              "    </tr>\n",
              "    <tr>\n",
              "      <th>2</th>\n",
              "      <td>2022-01-04</td>\n",
              "      <td>Hartford</td>\n",
              "      <td>HYDRAULIC OIL</td>\n",
              "      <td>5.0</td>\n",
              "      <td>Hartford</td>\n",
              "      <td>Currently In Use</td>\n",
              "      <td>10000</td>\n",
              "      <td>Gasoline</td>\n",
              "    </tr>\n",
              "    <tr>\n",
              "      <th>3</th>\n",
              "      <td>2022-01-01</td>\n",
              "      <td>Hartford</td>\n",
              "      <td>ANTIFREEZE</td>\n",
              "      <td>2.0</td>\n",
              "      <td>Hartford</td>\n",
              "      <td>Currently In Use</td>\n",
              "      <td>10000</td>\n",
              "      <td>Gasoline</td>\n",
              "    </tr>\n",
              "    <tr>\n",
              "      <th>4</th>\n",
              "      <td>2021-12-28</td>\n",
              "      <td>Hartford</td>\n",
              "      <td>motor oil</td>\n",
              "      <td>0.0</td>\n",
              "      <td>Hartford</td>\n",
              "      <td>Currently In Use</td>\n",
              "      <td>10000</td>\n",
              "      <td>Gasoline</td>\n",
              "    </tr>\n",
              "  </tbody>\n",
              "</table>\n",
              "</div>\n",
              "      <button class=\"colab-df-convert\" onclick=\"convertToInteractive('df-379e1e8d-de93-4dd8-8cd6-2b9309e2bdc8')\"\n",
              "              title=\"Convert this dataframe to an interactive table.\"\n",
              "              style=\"display:none;\">\n",
              "        \n",
              "  <svg xmlns=\"http://www.w3.org/2000/svg\" height=\"24px\"viewBox=\"0 0 24 24\"\n",
              "       width=\"24px\">\n",
              "    <path d=\"M0 0h24v24H0V0z\" fill=\"none\"/>\n",
              "    <path d=\"M18.56 5.44l.94 2.06.94-2.06 2.06-.94-2.06-.94-.94-2.06-.94 2.06-2.06.94zm-11 1L8.5 8.5l.94-2.06 2.06-.94-2.06-.94L8.5 2.5l-.94 2.06-2.06.94zm10 10l.94 2.06.94-2.06 2.06-.94-2.06-.94-.94-2.06-.94 2.06-2.06.94z\"/><path d=\"M17.41 7.96l-1.37-1.37c-.4-.4-.92-.59-1.43-.59-.52 0-1.04.2-1.43.59L10.3 9.45l-7.72 7.72c-.78.78-.78 2.05 0 2.83L4 21.41c.39.39.9.59 1.41.59.51 0 1.02-.2 1.41-.59l7.78-7.78 2.81-2.81c.8-.78.8-2.07 0-2.86zM5.41 20L4 18.59l7.72-7.72 1.47 1.35L5.41 20z\"/>\n",
              "  </svg>\n",
              "      </button>\n",
              "      \n",
              "  <style>\n",
              "    .colab-df-container {\n",
              "      display:flex;\n",
              "      flex-wrap:wrap;\n",
              "      gap: 12px;\n",
              "    }\n",
              "\n",
              "    .colab-df-convert {\n",
              "      background-color: #E8F0FE;\n",
              "      border: none;\n",
              "      border-radius: 50%;\n",
              "      cursor: pointer;\n",
              "      display: none;\n",
              "      fill: #1967D2;\n",
              "      height: 32px;\n",
              "      padding: 0 0 0 0;\n",
              "      width: 32px;\n",
              "    }\n",
              "\n",
              "    .colab-df-convert:hover {\n",
              "      background-color: #E2EBFA;\n",
              "      box-shadow: 0px 1px 2px rgba(60, 64, 67, 0.3), 0px 1px 3px 1px rgba(60, 64, 67, 0.15);\n",
              "      fill: #174EA6;\n",
              "    }\n",
              "\n",
              "    [theme=dark] .colab-df-convert {\n",
              "      background-color: #3B4455;\n",
              "      fill: #D2E3FC;\n",
              "    }\n",
              "\n",
              "    [theme=dark] .colab-df-convert:hover {\n",
              "      background-color: #434B5C;\n",
              "      box-shadow: 0px 1px 3px 1px rgba(0, 0, 0, 0.15);\n",
              "      filter: drop-shadow(0px 1px 2px rgba(0, 0, 0, 0.3));\n",
              "      fill: #FFFFFF;\n",
              "    }\n",
              "  </style>\n",
              "\n",
              "      <script>\n",
              "        const buttonEl =\n",
              "          document.querySelector('#df-379e1e8d-de93-4dd8-8cd6-2b9309e2bdc8 button.colab-df-convert');\n",
              "        buttonEl.style.display =\n",
              "          google.colab.kernel.accessAllowed ? 'block' : 'none';\n",
              "\n",
              "        async function convertToInteractive(key) {\n",
              "          const element = document.querySelector('#df-379e1e8d-de93-4dd8-8cd6-2b9309e2bdc8');\n",
              "          const dataTable =\n",
              "            await google.colab.kernel.invokeFunction('convertToInteractive',\n",
              "                                                     [key], {});\n",
              "          if (!dataTable) return;\n",
              "\n",
              "          const docLinkHtml = 'Like what you see? Visit the ' +\n",
              "            '<a target=\"_blank\" href=https://colab.research.google.com/notebooks/data_table.ipynb>data table notebook</a>'\n",
              "            + ' to learn more about interactive tables.';\n",
              "          element.innerHTML = '';\n",
              "          dataTable['output_type'] = 'display_data';\n",
              "          await google.colab.output.renderOutput(dataTable, element);\n",
              "          const docLink = document.createElement('div');\n",
              "          docLink.innerHTML = docLinkHtml;\n",
              "          element.appendChild(docLink);\n",
              "        }\n",
              "      </script>\n",
              "    </div>\n",
              "  </div>\n",
              "  "
            ],
            "text/plain": [
              "  releasedatetime townrelease  ... capacitygalsnum  substancecd\n",
              "0      2022-01-19    Hartford  ...           10000     Gasoline\n",
              "1      2022-01-13    Hartford  ...           10000     Gasoline\n",
              "2      2022-01-04    Hartford  ...           10000     Gasoline\n",
              "3      2022-01-01    Hartford  ...           10000     Gasoline\n",
              "4      2021-12-28    Hartford  ...           10000     Gasoline\n",
              "\n",
              "[5 rows x 8 columns]"
            ]
          },
          "metadata": {},
          "execution_count": 51
        }
      ]
    },
    {
      "cell_type": "code",
      "metadata": {
        "colab": {
          "base_uri": "https://localhost:8080/",
          "height": 0
        },
        "id": "fjsTgvKWp98_",
        "outputId": "37676d7c-afdc-470e-9444-986c6cfdf29b"
      },
      "source": [
        "# Check dataset details - numerical data\n",
        "# quangallons is seriously skewed\n",
        "df.describe()"
      ],
      "execution_count": 52,
      "outputs": [
        {
          "output_type": "execute_result",
          "data": {
            "text/html": [
              "\n",
              "  <div id=\"df-214011ba-5c4a-44b1-a784-1b5d81f47fd2\">\n",
              "    <div class=\"colab-df-container\">\n",
              "      <div>\n",
              "<style scoped>\n",
              "    .dataframe tbody tr th:only-of-type {\n",
              "        vertical-align: middle;\n",
              "    }\n",
              "\n",
              "    .dataframe tbody tr th {\n",
              "        vertical-align: top;\n",
              "    }\n",
              "\n",
              "    .dataframe thead th {\n",
              "        text-align: right;\n",
              "    }\n",
              "</style>\n",
              "<table border=\"1\" class=\"dataframe\">\n",
              "  <thead>\n",
              "    <tr style=\"text-align: right;\">\n",
              "      <th></th>\n",
              "      <th>quangallons</th>\n",
              "      <th>capacitygalsnum</th>\n",
              "    </tr>\n",
              "  </thead>\n",
              "  <tbody>\n",
              "    <tr>\n",
              "      <th>count</th>\n",
              "      <td>444.000000</td>\n",
              "      <td>444.000000</td>\n",
              "    </tr>\n",
              "    <tr>\n",
              "      <th>mean</th>\n",
              "      <td>7.474662</td>\n",
              "      <td>9475.337838</td>\n",
              "    </tr>\n",
              "    <tr>\n",
              "      <th>std</th>\n",
              "      <td>21.956922</td>\n",
              "      <td>5335.542997</td>\n",
              "    </tr>\n",
              "    <tr>\n",
              "      <th>min</th>\n",
              "      <td>0.000000</td>\n",
              "      <td>500.000000</td>\n",
              "    </tr>\n",
              "    <tr>\n",
              "      <th>25%</th>\n",
              "      <td>0.000000</td>\n",
              "      <td>6000.000000</td>\n",
              "    </tr>\n",
              "    <tr>\n",
              "      <th>50%</th>\n",
              "      <td>2.000000</td>\n",
              "      <td>8000.000000</td>\n",
              "    </tr>\n",
              "    <tr>\n",
              "      <th>75%</th>\n",
              "      <td>3.000000</td>\n",
              "      <td>12000.000000</td>\n",
              "    </tr>\n",
              "    <tr>\n",
              "      <th>max</th>\n",
              "      <td>150.000000</td>\n",
              "      <td>30000.000000</td>\n",
              "    </tr>\n",
              "  </tbody>\n",
              "</table>\n",
              "</div>\n",
              "      <button class=\"colab-df-convert\" onclick=\"convertToInteractive('df-214011ba-5c4a-44b1-a784-1b5d81f47fd2')\"\n",
              "              title=\"Convert this dataframe to an interactive table.\"\n",
              "              style=\"display:none;\">\n",
              "        \n",
              "  <svg xmlns=\"http://www.w3.org/2000/svg\" height=\"24px\"viewBox=\"0 0 24 24\"\n",
              "       width=\"24px\">\n",
              "    <path d=\"M0 0h24v24H0V0z\" fill=\"none\"/>\n",
              "    <path d=\"M18.56 5.44l.94 2.06.94-2.06 2.06-.94-2.06-.94-.94-2.06-.94 2.06-2.06.94zm-11 1L8.5 8.5l.94-2.06 2.06-.94-2.06-.94L8.5 2.5l-.94 2.06-2.06.94zm10 10l.94 2.06.94-2.06 2.06-.94-2.06-.94-.94-2.06-.94 2.06-2.06.94z\"/><path d=\"M17.41 7.96l-1.37-1.37c-.4-.4-.92-.59-1.43-.59-.52 0-1.04.2-1.43.59L10.3 9.45l-7.72 7.72c-.78.78-.78 2.05 0 2.83L4 21.41c.39.39.9.59 1.41.59.51 0 1.02-.2 1.41-.59l7.78-7.78 2.81-2.81c.8-.78.8-2.07 0-2.86zM5.41 20L4 18.59l7.72-7.72 1.47 1.35L5.41 20z\"/>\n",
              "  </svg>\n",
              "      </button>\n",
              "      \n",
              "  <style>\n",
              "    .colab-df-container {\n",
              "      display:flex;\n",
              "      flex-wrap:wrap;\n",
              "      gap: 12px;\n",
              "    }\n",
              "\n",
              "    .colab-df-convert {\n",
              "      background-color: #E8F0FE;\n",
              "      border: none;\n",
              "      border-radius: 50%;\n",
              "      cursor: pointer;\n",
              "      display: none;\n",
              "      fill: #1967D2;\n",
              "      height: 32px;\n",
              "      padding: 0 0 0 0;\n",
              "      width: 32px;\n",
              "    }\n",
              "\n",
              "    .colab-df-convert:hover {\n",
              "      background-color: #E2EBFA;\n",
              "      box-shadow: 0px 1px 2px rgba(60, 64, 67, 0.3), 0px 1px 3px 1px rgba(60, 64, 67, 0.15);\n",
              "      fill: #174EA6;\n",
              "    }\n",
              "\n",
              "    [theme=dark] .colab-df-convert {\n",
              "      background-color: #3B4455;\n",
              "      fill: #D2E3FC;\n",
              "    }\n",
              "\n",
              "    [theme=dark] .colab-df-convert:hover {\n",
              "      background-color: #434B5C;\n",
              "      box-shadow: 0px 1px 3px 1px rgba(0, 0, 0, 0.15);\n",
              "      filter: drop-shadow(0px 1px 2px rgba(0, 0, 0, 0.3));\n",
              "      fill: #FFFFFF;\n",
              "    }\n",
              "  </style>\n",
              "\n",
              "      <script>\n",
              "        const buttonEl =\n",
              "          document.querySelector('#df-214011ba-5c4a-44b1-a784-1b5d81f47fd2 button.colab-df-convert');\n",
              "        buttonEl.style.display =\n",
              "          google.colab.kernel.accessAllowed ? 'block' : 'none';\n",
              "\n",
              "        async function convertToInteractive(key) {\n",
              "          const element = document.querySelector('#df-214011ba-5c4a-44b1-a784-1b5d81f47fd2');\n",
              "          const dataTable =\n",
              "            await google.colab.kernel.invokeFunction('convertToInteractive',\n",
              "                                                     [key], {});\n",
              "          if (!dataTable) return;\n",
              "\n",
              "          const docLinkHtml = 'Like what you see? Visit the ' +\n",
              "            '<a target=\"_blank\" href=https://colab.research.google.com/notebooks/data_table.ipynb>data table notebook</a>'\n",
              "            + ' to learn more about interactive tables.';\n",
              "          element.innerHTML = '';\n",
              "          dataTable['output_type'] = 'display_data';\n",
              "          await google.colab.output.renderOutput(dataTable, element);\n",
              "          const docLink = document.createElement('div');\n",
              "          docLink.innerHTML = docLinkHtml;\n",
              "          element.appendChild(docLink);\n",
              "        }\n",
              "      </script>\n",
              "    </div>\n",
              "  </div>\n",
              "  "
            ],
            "text/plain": [
              "       quangallons  capacitygalsnum\n",
              "count   444.000000       444.000000\n",
              "mean      7.474662      9475.337838\n",
              "std      21.956922      5335.542997\n",
              "min       0.000000       500.000000\n",
              "25%       0.000000      6000.000000\n",
              "50%       2.000000      8000.000000\n",
              "75%       3.000000     12000.000000\n",
              "max     150.000000     30000.000000"
            ]
          },
          "metadata": {},
          "execution_count": 52
        }
      ]
    },
    {
      "cell_type": "markdown",
      "metadata": {
        "id": "FHkRvG5dEZok"
      },
      "source": [
        "## Visualization for the merged dataset\n",
        "We visualize the distributions of numerical data by drawing histograms. "
      ]
    },
    {
      "cell_type": "code",
      "metadata": {
        "colab": {
          "base_uri": "https://localhost:8080/",
          "height": 0
        },
        "id": "Mk-8sufqpEHl",
        "outputId": "92b562d1-5974-472d-a495-062599fa18ba"
      },
      "source": [
        "# import package\n",
        "import matplotlib.pyplot as plt\n",
        "\n",
        "# set up the figure size\n",
        "%matplotlib inline\n",
        "plt.rcParams['figure.figsize'] = (15,6)\n",
        "\n",
        "# make subplots - We need 1x2 figures\n",
        "fig, axes = plt.subplots(nrows = 1, ncols = 2)\n",
        "\n",
        "# Specifiy the features of interest - Define titles, xaxes, and yaxes\n",
        "features = ['quangallons', 'capacitygalsnum']\n",
        "titles = ['Histogram of quangallons', 'Histogram of capacitygalsnum']\n",
        "xaxes = ['Amount of liquid (gallons)', 'Amount of liquid (gallons)']\n",
        "yaxes = ['Frequency', 'Frequency']\n",
        "\n",
        "# draw histograms\n",
        "# loop over the axes\n",
        "# The reason for [idx] is to loop each in sequence, otherwise is a total value\n",
        "axes = axes.ravel()\n",
        "for idx, ax in enumerate(axes):\n",
        "    ax.hist(df[features[idx]],bins=10)\n",
        "    ax.set_title(titles[idx], fontsize=25)\n",
        "    ax.set_xlabel(xaxes[idx], fontsize=20)\n",
        "    ax.set_ylabel(yaxes[idx], fontsize=20)\n",
        "    ax.tick_params(axis='both', labelsize=10)"
      ],
      "execution_count": 53,
      "outputs": [
        {
          "output_type": "display_data",
          "data": {
            "image/png": "[encoded data removed]",
            "text/plain": [
              "<Figure size 1080x432 with 2 Axes>"
            ]
          },
          "metadata": {
            "needs_background": "light"
          }
        }
      ]
    },
    {
      "cell_type": "code",
      "metadata": {
        "colab": {
          "base_uri": "https://localhost:8080/",
          "height": 0
        },
        "id": "JgLWGxZwpvvK",
        "outputId": "e6a2e75f-3967-4bae-a816-46be03da97bd"
      },
      "source": [
        "# Check dataset details - categorical data\n",
        "\n",
        "df.describe(include=['O'])"
      ],
      "execution_count": 54,
      "outputs": [
        {
          "output_type": "execute_result",
          "data": {
            "text/html": [
              "\n",
              "  <div id=\"df-dbddb17d-bac8-4c9b-98ec-402a313e2760\">\n",
              "    <div class=\"colab-df-container\">\n",
              "      <div>\n",
              "<style scoped>\n",
              "    .dataframe tbody tr th:only-of-type {\n",
              "        vertical-align: middle;\n",
              "    }\n",
              "\n",
              "    .dataframe tbody tr th {\n",
              "        vertical-align: top;\n",
              "    }\n",
              "\n",
              "    .dataframe thead th {\n",
              "        text-align: right;\n",
              "    }\n",
              "</style>\n",
              "<table border=\"1\" class=\"dataframe\">\n",
              "  <thead>\n",
              "    <tr style=\"text-align: right;\">\n",
              "      <th></th>\n",
              "      <th>townrelease</th>\n",
              "      <th>releasesubstance</th>\n",
              "      <th>facilitycity</th>\n",
              "      <th>tankstatuscd</th>\n",
              "      <th>substancecd</th>\n",
              "    </tr>\n",
              "  </thead>\n",
              "  <tbody>\n",
              "    <tr>\n",
              "      <th>count</th>\n",
              "      <td>444</td>\n",
              "      <td>444</td>\n",
              "      <td>444</td>\n",
              "      <td>444</td>\n",
              "      <td>444</td>\n",
              "    </tr>\n",
              "    <tr>\n",
              "      <th>unique</th>\n",
              "      <td>26</td>\n",
              "      <td>75</td>\n",
              "      <td>26</td>\n",
              "      <td>2</td>\n",
              "      <td>6</td>\n",
              "    </tr>\n",
              "    <tr>\n",
              "      <th>top</th>\n",
              "      <td>Enfield</td>\n",
              "      <td>ANTIFREEZE</td>\n",
              "      <td>Enfield</td>\n",
              "      <td>Currently In Use</td>\n",
              "      <td>Gasoline</td>\n",
              "    </tr>\n",
              "    <tr>\n",
              "      <th>freq</th>\n",
              "      <td>92</td>\n",
              "      <td>124</td>\n",
              "      <td>92</td>\n",
              "      <td>439</td>\n",
              "      <td>244</td>\n",
              "    </tr>\n",
              "  </tbody>\n",
              "</table>\n",
              "</div>\n",
              "      <button class=\"colab-df-convert\" onclick=\"convertToInteractive('df-dbddb17d-bac8-4c9b-98ec-402a313e2760')\"\n",
              "              title=\"Convert this dataframe to an interactive table.\"\n",
              "              style=\"display:none;\">\n",
              "        \n",
              "  <svg xmlns=\"http://www.w3.org/2000/svg\" height=\"24px\"viewBox=\"0 0 24 24\"\n",
              "       width=\"24px\">\n",
              "    <path d=\"M0 0h24v24H0V0z\" fill=\"none\"/>\n",
              "    <path d=\"M18.56 5.44l.94 2.06.94-2.06 2.06-.94-2.06-.94-.94-2.06-.94 2.06-2.06.94zm-11 1L8.5 8.5l.94-2.06 2.06-.94-2.06-.94L8.5 2.5l-.94 2.06-2.06.94zm10 10l.94 2.06.94-2.06 2.06-.94-2.06-.94-.94-2.06-.94 2.06-2.06.94z\"/><path d=\"M17.41 7.96l-1.37-1.37c-.4-.4-.92-.59-1.43-.59-.52 0-1.04.2-1.43.59L10.3 9.45l-7.72 7.72c-.78.78-.78 2.05 0 2.83L4 21.41c.39.39.9.59 1.41.59.51 0 1.02-.2 1.41-.59l7.78-7.78 2.81-2.81c.8-.78.8-2.07 0-2.86zM5.41 20L4 18.59l7.72-7.72 1.47 1.35L5.41 20z\"/>\n",
              "  </svg>\n",
              "      </button>\n",
              "      \n",
              "  <style>\n",
              "    .colab-df-container {\n",
              "      display:flex;\n",
              "      flex-wrap:wrap;\n",
              "      gap: 12px;\n",
              "    }\n",
              "\n",
              "    .colab-df-convert {\n",
              "      background-color: #E8F0FE;\n",
              "      border: none;\n",
              "      border-radius: 50%;\n",
              "      cursor: pointer;\n",
              "      display: none;\n",
              "      fill: #1967D2;\n",
              "      height: 32px;\n",
              "      padding: 0 0 0 0;\n",
              "      width: 32px;\n",
              "    }\n",
              "\n",
              "    .colab-df-convert:hover {\n",
              "      background-color: #E2EBFA;\n",
              "      box-shadow: 0px 1px 2px rgba(60, 64, 67, 0.3), 0px 1px 3px 1px rgba(60, 64, 67, 0.15);\n",
              "      fill: #174EA6;\n",
              "    }\n",
              "\n",
              "    [theme=dark] .colab-df-convert {\n",
              "      background-color: #3B4455;\n",
              "      fill: #D2E3FC;\n",
              "    }\n",
              "\n",
              "    [theme=dark] .colab-df-convert:hover {\n",
              "      background-color: #434B5C;\n",
              "      box-shadow: 0px 1px 3px 1px rgba(0, 0, 0, 0.15);\n",
              "      filter: drop-shadow(0px 1px 2px rgba(0, 0, 0, 0.3));\n",
              "      fill: #FFFFFF;\n",
              "    }\n",
              "  </style>\n",
              "\n",
              "      <script>\n",
              "        const buttonEl =\n",
              "          document.querySelector('#df-dbddb17d-bac8-4c9b-98ec-402a313e2760 button.colab-df-convert');\n",
              "        buttonEl.style.display =\n",
              "          google.colab.kernel.accessAllowed ? 'block' : 'none';\n",
              "\n",
              "        async function convertToInteractive(key) {\n",
              "          const element = document.querySelector('#df-dbddb17d-bac8-4c9b-98ec-402a313e2760');\n",
              "          const dataTable =\n",
              "            await google.colab.kernel.invokeFunction('convertToInteractive',\n",
              "                                                     [key], {});\n",
              "          if (!dataTable) return;\n",
              "\n",
              "          const docLinkHtml = 'Like what you see? Visit the ' +\n",
              "            '<a target=\"_blank\" href=https://colab.research.google.com/notebooks/data_table.ipynb>data table notebook</a>'\n",
              "            + ' to learn more about interactive tables.';\n",
              "          element.innerHTML = '';\n",
              "          dataTable['output_type'] = 'display_data';\n",
              "          await google.colab.output.renderOutput(dataTable, element);\n",
              "          const docLink = document.createElement('div');\n",
              "          docLink.innerHTML = docLinkHtml;\n",
              "          element.appendChild(docLink);\n",
              "        }\n",
              "      </script>\n",
              "    </div>\n",
              "  </div>\n",
              "  "
            ],
            "text/plain": [
              "       townrelease releasesubstance facilitycity      tankstatuscd substancecd\n",
              "count          444              444          444               444         444\n",
              "unique          26               75           26                 2           6\n",
              "top        Enfield       ANTIFREEZE      Enfield  Currently In Use    Gasoline\n",
              "freq            92              124           92               439         244"
            ]
          },
          "metadata": {},
          "execution_count": 54
        }
      ]
    },
    {
      "cell_type": "markdown",
      "metadata": {
        "id": "Go3gxWNi9Nub"
      },
      "source": [
        "## Interesting Plots\n",
        "For data visualization, we specifically select 5 interesting plots."
      ]
    },
    {
      "cell_type": "markdown",
      "metadata": {
        "id": "zjVjJE5s9Wgz"
      },
      "source": [
        "### Plot 1\n",
        "First, we made a bar chart of each spill incident by town. This is a simple graphical method to allow us to visualize the data set."
      ]
    },
    {
      "cell_type": "code",
      "metadata": {
        "colab": {
          "base_uri": "https://localhost:8080/",
          "height": 0
        },
        "id": "1JucsjgcrCb4",
        "outputId": "21d61fe4-e101-4a64-d08f-31ec175da92a"
      },
      "source": [
        "# Visualize the distribution of categorical data - The Number of Spill Incidents in each Town in this dataset\n",
        "# set up the figure size\n",
        "%matplotlib inline\n",
        "plt.rcParams['figure.figsize'] = (15,6)\n",
        "\n",
        "# make subplots\n",
        "fig, axes = plt.subplots(nrows = 1, ncols = 1)\n",
        "\n",
        "# make the data read to feed into the visulizer\n",
        "# groupby town, and see how many town report spill\n",
        "X_townrelease = df.groupby('townrelease').size().reset_index(name='Town')['townrelease']\n",
        "Y_townrelease = df.groupby('townrelease').size().reset_index(name='Counts')['Counts']\n",
        "\n",
        "# Make the bar plot -- lower left axes\n",
        "axes.bar(X_townrelease, Y_townrelease)\n",
        "axes.set_title('The Number of Spill Incidents in each Town', fontsize=25)\n",
        "axes.set_xlabel('Towns', fontsize=20)\n",
        "axes.set_ylabel('Counts', fontsize=20)\n",
        "axes.tick_params(axis='both', labelsize=15, rotation=90)\n",
        "\n",
        "# add datapoints\n",
        "for i in range(len(Y_townrelease)):\n",
        "  plt.text(i, Y_townrelease[i],Y_townrelease[i],va='bottom')\n",
        "plt.show()"
      ],
      "execution_count": 55,
      "outputs": [
        {
          "output_type": "display_data",
          "data": {
            "image/png": "[encoded data removed]",
            "text/plain": [
              "<Figure size 1080x432 with 1 Axes>"
            ]
          },
          "metadata": {
            "needs_background": "light"
          }
        }
      ]
    },
    {
      "cell_type": "markdown",
      "metadata": {
        "id": "AOWVJee6wiq-"
      },
      "source": [
        "**Plot 1 Notes**\n",
        "\n",
        "* Enfiled and Manchester are leading towns in spill count. This result is unexpected since neither are within the top 10 for population in the state.\n",
        "* Further graphs should use gallons spilled rather than count to try and resolve this anecdotal descripency."
      ]
    },
    {
      "cell_type": "markdown",
      "metadata": {
        "id": "resxiEVNzbmD"
      },
      "source": [
        "**Conclusion**: \n",
        "From this plot we can see that Enfiled has the highest spill incident counts and Manchester has the second highest spill incident counts. We can clearly see that each town in Connecticut has different number of spill incidents and we can compare the numbers according to this plot. \n",
        "\n",
        "**Business Value**: \n",
        "This plot gives an overview of which town has the most spill incidents and where has comparetively less spill incidents, so the related service company can arrange their staff accordingly to those towns. "
      ]
    },
    {
      "cell_type": "markdown",
      "metadata": {
        "id": "kueZyIgT9aXa"
      },
      "source": [
        "### Plot 2.1\n",
        "We created a bar chart with spill gallons instead of count, to see which spills might have been more significant. If the spill is larger than the amount of spills in each town, this may affect the correlation between the two datasets. "
      ]
    },
    {
      "cell_type": "code",
      "metadata": {
        "colab": {
          "base_uri": "https://localhost:8080/",
          "height": 0
        },
        "id": "KZm3QF3TQNtL",
        "outputId": "e33d57f4-bcad-48b4-b0b5-36a4d92da4b0"
      },
      "source": [
        "# Check the amount of quangallons spill in each city in this dataset\n",
        "# perform groupby - sum all the quangallons in each city.\n",
        "# plot bar chart with titles, names, headers\n",
        "\n",
        "town_spill = df.groupby(['townrelease'])['quangallons'].sum().plot(kind='bar', color='red')\n",
        "plt.title('The Number of Spill Gallons in each Town', fontsize=25)\n",
        "plt.xlabel('Towns', fontsize=20)\n",
        "plt.ylabel('Gallons', fontsize=20)\n",
        "plt.tick_params(axis='both', labelsize=15, rotation=90)\n",
        "town_spill\n",
        "\n",
        "# add datapoints\n",
        "plotData = df.groupby(['townrelease'])['quangallons'].sum()\n",
        "for i in range(len(plotData)):\n",
        "  plt.text(i, plotData[i], round(plotData[i],1))\n",
        "\n",
        "plt.show()"
      ],
      "execution_count": 56,
      "outputs": [
        {
          "output_type": "display_data",
          "data": {
            "image/png": "[encoded data removed]",
            "text/plain": [
              "<Figure size 1080x432 with 1 Axes>"
            ]
          },
          "metadata": {
            "needs_background": "light"
          }
        }
      ]
    },
    {
      "cell_type": "markdown",
      "metadata": {
        "id": "SWCn3Syjx36n"
      },
      "source": [
        "**Plot 2.1 Notes** \n",
        "\n",
        "* Plot 2.1 shows a major outlier in gallons in Hartford\n",
        "* Despite being towards the bottom in spill count, Hartford is orders of magnitude above the rest of the state in gallons spilled\n",
        "* Next step is to verify outliers and eliminate them"
      ]
    },
    {
      "cell_type": "markdown",
      "metadata": {
        "id": "KwTTApqH6Z0W"
      },
      "source": [
        "### Plot 2.2\n",
        "Plot 2.1 showed an outlier in gallons in Hartford.\n",
        "Despite being towards the bottom in spill count, Hartford contains the most gallons spilled of substance. Indicating this may have been an isolated one-time spill. \n",
        "Next step is to verify outliers and eliminate them, we did this using a box plot. "
      ]
    },
    {
      "cell_type": "code",
      "metadata": {
        "colab": {
          "base_uri": "https://localhost:8080/",
          "height": 0
        },
        "id": "QDUrxD4RCpDE",
        "outputId": "bceffd96-e377-499e-f43e-7f05e7ad068a"
      },
      "source": [
        "# To search for outliers based on the above bar chart in original data set of spill incidents in gallons use box plot\n",
        "# Create box plot to visualize\n",
        "df.boxplot(column=['quangallons'],fontsize=15)\n",
        "plt.title('Identifying Outliers for Spill Gallons', fontsize=25)"
      ],
      "execution_count": 57,
      "outputs": [
        {
          "output_type": "execute_result",
          "data": {
            "text/plain": [
              "Text(0.5, 1.0, 'Identifying Outliers for Spill Gallons')"
            ]
          },
          "metadata": {},
          "execution_count": 57
        },
        {
          "output_type": "display_data",
          "data": {
            "image/png": "[encoded data removed]",
            "text/plain": [
              "<Figure size 1080x432 with 1 Axes>"
            ]
          },
          "metadata": {
            "needs_background": "light"
          }
        }
      ]
    },
    {
      "cell_type": "markdown",
      "metadata": {
        "id": "tepelR74ynPe"
      },
      "source": [
        "**Plot 2.2 Notes**\n",
        "\n",
        "* Plot clearly shows outliers skewing the data set\n",
        "* Next step is to eliminate outliers and observe change in data set"
      ]
    },
    {
      "cell_type": "markdown",
      "metadata": {
        "id": "gCQTA-qA2nWp"
      },
      "source": [
        "**Conclusion**: \n",
        "From Plot 2.1, we can see that Hartford has the highest total amount of spill gallons. However, the chart is barely displaying the total amounts in the other towns. By using the box plot (Plot 2.2) to show the distribution of spill gallons, we noticed that there is an outlier making the total amount of spill gallons in Hartford much higher compared to the total amounts in the other towns. We will address the problem in Plot 3."
      ]
    },
    {
      "cell_type": "markdown",
      "metadata": {
        "id": "E3xIJmlz_Jac"
      },
      "source": [
        "### Plot 3\n",
        "We removed outliers identified above in Plots 2.1 and 2.2 by eliminating any data outside the 25th to 75th quantiles. Plot Spill Gallons vs. Underground Tank Gallons to see if any correlation exists. "
      ]
    },
    {
      "cell_type": "code",
      "metadata": {
        "colab": {
          "base_uri": "https://localhost:8080/",
          "height": 0
        },
        "id": "xnZuuFN3_H-y",
        "outputId": "2010576b-1e33-46a3-c64f-2b22290eab03"
      },
      "source": [
        "import numpy as np\n",
        "from pylab import *\n",
        "import seaborn as sns\n",
        "\n",
        "# To remove outliers in Spill gallons(quangallons), we are focusing on the values of spill gallons in the 25th to 75th percentiles.\n",
        "Q1 = df['quangallons'].quantile(0.25) \n",
        "Q3 = df['quangallons'].quantile(0.75) \n",
        "iqr = Q3-Q1\n",
        "minimum = Q1-1.5*iqr\n",
        "maximum = Q3+1.5*iqr\n",
        "df =df[(df['quangallons'] <=maximum) & (df['quangallons']>=minimum)]\n",
        "# eliminate the large outliers of quangallons since they seriously skew the data\n",
        "# create scatterplot to examine the correlation between Spill Gallons and Tank Gallons \n",
        "# add title and headers  \n",
        "sns.scatterplot(data=df, x=\"quangallons\", y=\"capacitygalsnum\", hue=\"quangallons\")\n",
        "plt.title('Spill Gallons vs. Tank Gallons', fontsize=25)\n",
        "plt.xlabel('Spill Gallons', fontsize=20)\n",
        "plt.ylabel('Tank Capacity Gallons', fontsize=20)"
      ],
      "execution_count": 58,
      "outputs": [
        {
          "output_type": "execute_result",
          "data": {
            "text/plain": [
              "Text(0, 0.5, 'Tank Capacity Gallons')"
            ]
          },
          "metadata": {},
          "execution_count": 58
        },
        {
          "output_type": "display_data",
          "data": {
            "image/png": "[encoded data removed]",
            "text/plain": [
              "<Figure size 1080x432 with 1 Axes>"
            ]
          },
          "metadata": {
            "needs_background": "light"
          }
        }
      ]
    },
    {
      "cell_type": "markdown",
      "metadata": {
        "id": "oFjfdB23zKzR"
      },
      "source": [
        "**Plot 3 Notes**\n",
        "\n",
        "* Dataset is more clear with outliers removed\n",
        "* No correlation observed between town underground tank capacity and spill volume\n",
        "* Next check substance vs substance for both data sets to see if there is a more localized correlation for this data set"
      ]
    },
    {
      "cell_type": "markdown",
      "metadata": {
        "id": "goIXa6de975j"
      },
      "source": [
        "**Conclusion**: \n",
        "With the outliers removed, the data is less skewed and easier to observe. \n",
        "Based on the scatter plot graphed, we can see there is no correlation between the amount of underground tank gallons and spill gallons. Meaning, if there is a larger amount of underground tanks in a town, it does not indicate that more spills will occur. \n",
        "We can view from the scatter plot that a majority number of spill incidents remain relatively low, as bunched in the lower left corner of the plot. "
      ]
    },
    {
      "cell_type": "markdown",
      "metadata": {
        "id": "Y_ryW0aXLWei"
      },
      "source": [
        "### Plot 4\n",
        "We decided to do a similar plot for the external dataset, just seen in Plot 2.1. We wanted to visualize the number of underground tank gallons in each town to really see if the towns correlated based on count. "
      ]
    },
    {
      "cell_type": "code",
      "metadata": {
        "colab": {
          "base_uri": "https://localhost:8080/",
          "height": 511
        },
        "id": "0Q2J-8gPbmC4",
        "outputId": "fba87c18-edff-4668-8d95-356e68a05e4e"
      },
      "source": [
        "# Check the amount of Tank Gallons(capacitygalsnum) in each city in this dataset\n",
        "# perform groupby\n",
        "# plot bar chart\n",
        "# add titles and labels to plot\n",
        "tank_capacity = df.groupby(['facilitycity'])['capacitygalsnum'].sum().plot(kind='bar', color='green')\n",
        "plt.title('The Number of Tank Gallons in each Town', fontsize=25)\n",
        "plt.xlabel('Towns', fontsize=20)\n",
        "plt.ylabel('Gallons (millions)', fontsize=20)\n",
        "plt.tick_params(axis='both', labelsize=15, rotation=90)\n",
        "plt.ylim((0,1000000))\n",
        "tank_capacity"
      ],
      "execution_count": 59,
      "outputs": [
        {
          "output_type": "execute_result",
          "data": {
            "text/plain": [
              "<matplotlib.axes._subplots.AxesSubplot at 0x7efefed47590>"
            ]
          },
          "metadata": {},
          "execution_count": 59
        },
        {
          "output_type": "display_data",
          "data": {
            "image/png": "[encoded data removed]",
            "text/plain": [
              "<Figure size 1080x432 with 1 Axes>"
            ]
          },
          "metadata": {
            "needs_background": "light"
          }
        }
      ]
    },
    {
      "cell_type": "markdown",
      "metadata": {
        "id": "5j_nCnDo0ahl"
      },
      "source": [
        "**Plot 4 Notes**\n",
        "\n",
        "* Enfield, Manchester, and Westport show high underground tank volume which aligns with the first spill count data set\n",
        "* Shows that it is necesicary to look for correlation between the two data sets"
      ]
    },
    {
      "cell_type": "markdown",
      "metadata": {
        "id": "Ks0g4bhL99Th"
      },
      "source": [
        "**Conclusion**: \n",
        "Plot 4 showed us that Enfield, while not the highest, does have a larger amount of underground tank gallons. This is related to the count of spill gallons, Enfield had a higher incidence of spill gallons than most of the other towns. While we did not see direct correlation in the scatter plot, this could bring us to some assumptions while looking at count plots. "
      ]
    },
    {
      "cell_type": "markdown",
      "metadata": {
        "id": "cavoPAvqWusw"
      },
      "source": [
        "### Plot 5\n",
        "We created a histogram to view if there was any correlation to substances spilled to substance stored in underground tanks. "
      ]
    },
    {
      "cell_type": "code",
      "metadata": {
        "colab": {
          "base_uri": "https://localhost:8080/",
          "height": 442
        },
        "id": "IBnHee-yl46j",
        "outputId": "61092ccd-94cd-4449-8727-49f3fbede694"
      },
      "source": [
        "import numpy as np\n",
        "from pylab import *\n",
        "import seaborn as sns\n",
        "\n",
        "plt.figure(figsize=(17,8.5)) # this creates a figure 20 inch wide, 8.5 inch high\n",
        "# create histogram to view relationship, if any, with substance in tanks compared to substance that spill\n",
        "sns.histplot(data=df, x='releasesubstance', color=\"blue\", label=\"Spill Substance\",alpha=0.5) \n",
        "sns.histplot(data=df, x='substancecd', color=\"red\", label=\"Tank Substance\",alpha=0.5) \n",
        "\n",
        "ax = sns.countplot(x='substancecd', data=df, color=\"red\",alpha=0.4)\n",
        "ax.set_xticklabels(ax.get_xticklabels(), rotation=40, ha=\"right\",fontsize=15)\n",
        "# only use the common substance between the original dataset and external dataset\n",
        "# this only contains 6 substances for comparison since there are only 6 substances identified in tanks on external dataset.\n",
        "# add titles, headers, and legend to histogram\n",
        "plt.title('Substances in Tanks vs. Substances Spilled', fontsize=25)\n",
        "plt.xlabel('Substance', fontsize=20)\n",
        "plt.ylabel('Count', fontsize=20)\n",
        "plt.legend()\n",
        "plt.tight_layout()\n",
        "plt.show()"
      ],
      "execution_count": 60,
      "outputs": [
        {
          "output_type": "display_data",
          "data": {
            "image/png": "[encoded data removed]",
            "text/plain": [
              "<Figure size 1224x612 with 1 Axes>"
            ]
          },
          "metadata": {
            "needs_background": "light"
          }
        }
      ]
    },
    {
      "cell_type": "markdown",
      "metadata": {
        "id": "9tOiiz7h09Kl"
      },
      "source": [
        "**Plot 5 Notes**\n",
        "* Plot shows graphs of spill gallons by substance and tank gallons by substance overlaid\n",
        "* Data indicates that spill and tank substance are unrelated\n",
        "* Possible negative correlation between the two data sets"
      ]
    },
    {
      "cell_type": "markdown",
      "metadata": {
        "id": "uFgUjhso9-9g"
      },
      "source": [
        "**Conclusion**: \n",
        "The histogram displayed that there are six common substances between the two datasets. In red, the underground tank substance is displayed and in blue the spill substance is displayed, as per the legend on plot. \n",
        "\n",
        "In the histogram, we see that Gasoline and Diesel are the majority substances stored in underground tanks, while they remain low in spill substance incidents. The histogram shows us that Hazardous substance and Other petroleum are the substances primarily spilled. These vague substance descriptions could indicate the many different type of motor fuels listed as substance in the assigned dataset. "
      ]
    },
    {
      "cell_type": "markdown",
      "metadata": {
        "id": "AolCKKUzabAN"
      },
      "source": [
        "# Part 2: Creating Optimal Models"
      ]
    },
    {
      "cell_type": "markdown",
      "metadata": {
        "id": "8wUxKN8SEGTS"
      },
      "source": [
        "## Data preprocessing \n",
        "Our optimization modeling part only focuses on three cities in Connecticut - Norwal, Stamford, Enfiled. We are going to read the original dataset from the connecticut government website and subset a dataset to have the 'townrelease' is equal to Stamford, Norwalk, or Enfield. \n",
        "\n",
        "Before building the models, we need to only select the data we need by creating new dataframes, check any missing values, and convert the data type of 'quangallons' from object to float. "
      ]
    },
    {
      "cell_type": "markdown",
      "source": [
        "###Step 1: Select the cities we were assigned (Norwalk, Stamford, and Enfield)"
      ],
      "metadata": {
        "id": "fvJDyOzDgSUL"
      }
    },
    {
      "cell_type": "code",
      "source": [
        "# The cities we were assigned are Norwalk, Stamford, and Enfield\n",
        "# Created three new dataframes for each city we were assigned by reuseing dataframe 'trim_spill' from Part 1\n",
        "# When there is no define for '.head()', the default number of rows equals to 5.\n",
        "three = ['Norwalk','Stamford','Enfield']\n",
        "cityN = trim_spill[trim_spill[\"townrelease\"] == three[0]]\n",
        "cityS = trim_spill[trim_spill[\"townrelease\"] == three[1]]\n",
        "cityE = trim_spill[trim_spill[\"townrelease\"] == three[2]]\n",
        "# check how Norwalk data looks like\n",
        "cityN.head()"
      ],
      "metadata": {
        "colab": {
          "base_uri": "https://localhost:8080/",
          "height": 206
        },
        "id": "ZAujw64_on6s",
        "outputId": "d5cd78a6-ea4c-4b21-b6e7-8f1adf869d03"
      },
      "execution_count": 61,
      "outputs": [
        {
          "output_type": "execute_result",
          "data": {
            "text/html": [
              "\n",
              "  <div id=\"df-6b30f1e3-4ab9-46a0-a0ef-a737fa5e74dd\">\n",
              "    <div class=\"colab-df-container\">\n",
              "      <div>\n",
              "<style scoped>\n",
              "    .dataframe tbody tr th:only-of-type {\n",
              "        vertical-align: middle;\n",
              "    }\n",
              "\n",
              "    .dataframe tbody tr th {\n",
              "        vertical-align: top;\n",
              "    }\n",
              "\n",
              "    .dataframe thead th {\n",
              "        text-align: right;\n",
              "    }\n",
              "</style>\n",
              "<table border=\"1\" class=\"dataframe\">\n",
              "  <thead>\n",
              "    <tr style=\"text-align: right;\">\n",
              "      <th></th>\n",
              "      <th>releasedatetime</th>\n",
              "      <th>townrelease</th>\n",
              "      <th>releasesubstance</th>\n",
              "      <th>quangallons</th>\n",
              "    </tr>\n",
              "  </thead>\n",
              "  <tbody>\n",
              "    <tr>\n",
              "      <th>114</th>\n",
              "      <td>2022-01-12T00:00:00.000</td>\n",
              "      <td>Norwalk</td>\n",
              "      <td>#2 FUEL OIL</td>\n",
              "      <td>0.0</td>\n",
              "    </tr>\n",
              "    <tr>\n",
              "      <th>148</th>\n",
              "      <td>2022-01-10T00:00:00.000</td>\n",
              "      <td>Norwalk</td>\n",
              "      <td>#2 FUEL OIL</td>\n",
              "      <td>3.0</td>\n",
              "    </tr>\n",
              "    <tr>\n",
              "      <th>187</th>\n",
              "      <td>2022-01-06T14:13:00.000</td>\n",
              "      <td>Norwalk</td>\n",
              "      <td>#2 Fuel - 275 gallon AST</td>\n",
              "      <td>50.0</td>\n",
              "    </tr>\n",
              "    <tr>\n",
              "      <th>270</th>\n",
              "      <td>2021-12-30T00:00:00.000</td>\n",
              "      <td>Norwalk</td>\n",
              "      <td>#2 FUEL OIL</td>\n",
              "      <td>0.0</td>\n",
              "    </tr>\n",
              "    <tr>\n",
              "      <th>277</th>\n",
              "      <td>2021-12-30T00:00:00.000</td>\n",
              "      <td>Norwalk</td>\n",
              "      <td>#2 FUEL OIL</td>\n",
              "      <td>0.0</td>\n",
              "    </tr>\n",
              "  </tbody>\n",
              "</table>\n",
              "</div>\n",
              "      <button class=\"colab-df-convert\" onclick=\"convertToInteractive('df-6b30f1e3-4ab9-46a0-a0ef-a737fa5e74dd')\"\n",
              "              title=\"Convert this dataframe to an interactive table.\"\n",
              "              style=\"display:none;\">\n",
              "        \n",
              "  <svg xmlns=\"http://www.w3.org/2000/svg\" height=\"24px\"viewBox=\"0 0 24 24\"\n",
              "       width=\"24px\">\n",
              "    <path d=\"M0 0h24v24H0V0z\" fill=\"none\"/>\n",
              "    <path d=\"M18.56 5.44l.94 2.06.94-2.06 2.06-.94-2.06-.94-.94-2.06-.94 2.06-2.06.94zm-11 1L8.5 8.5l.94-2.06 2.06-.94-2.06-.94L8.5 2.5l-.94 2.06-2.06.94zm10 10l.94 2.06.94-2.06 2.06-.94-2.06-.94-.94-2.06-.94 2.06-2.06.94z\"/><path d=\"M17.41 7.96l-1.37-1.37c-.4-.4-.92-.59-1.43-.59-.52 0-1.04.2-1.43.59L10.3 9.45l-7.72 7.72c-.78.78-.78 2.05 0 2.83L4 21.41c.39.39.9.59 1.41.59.51 0 1.02-.2 1.41-.59l7.78-7.78 2.81-2.81c.8-.78.8-2.07 0-2.86zM5.41 20L4 18.59l7.72-7.72 1.47 1.35L5.41 20z\"/>\n",
              "  </svg>\n",
              "      </button>\n",
              "      \n",
              "  <style>\n",
              "    .colab-df-container {\n",
              "      display:flex;\n",
              "      flex-wrap:wrap;\n",
              "      gap: 12px;\n",
              "    }\n",
              "\n",
              "    .colab-df-convert {\n",
              "      background-color: #E8F0FE;\n",
              "      border: none;\n",
              "      border-radius: 50%;\n",
              "      cursor: pointer;\n",
              "      display: none;\n",
              "      fill: #1967D2;\n",
              "      height: 32px;\n",
              "      padding: 0 0 0 0;\n",
              "      width: 32px;\n",
              "    }\n",
              "\n",
              "    .colab-df-convert:hover {\n",
              "      background-color: #E2EBFA;\n",
              "      box-shadow: 0px 1px 2px rgba(60, 64, 67, 0.3), 0px 1px 3px 1px rgba(60, 64, 67, 0.15);\n",
              "      fill: #174EA6;\n",
              "    }\n",
              "\n",
              "    [theme=dark] .colab-df-convert {\n",
              "      background-color: #3B4455;\n",
              "      fill: #D2E3FC;\n",
              "    }\n",
              "\n",
              "    [theme=dark] .colab-df-convert:hover {\n",
              "      background-color: #434B5C;\n",
              "      box-shadow: 0px 1px 3px 1px rgba(0, 0, 0, 0.15);\n",
              "      filter: drop-shadow(0px 1px 2px rgba(0, 0, 0, 0.3));\n",
              "      fill: #FFFFFF;\n",
              "    }\n",
              "  </style>\n",
              "\n",
              "      <script>\n",
              "        const buttonEl =\n",
              "          document.querySelector('#df-6b30f1e3-4ab9-46a0-a0ef-a737fa5e74dd button.colab-df-convert');\n",
              "        buttonEl.style.display =\n",
              "          google.colab.kernel.accessAllowed ? 'block' : 'none';\n",
              "\n",
              "        async function convertToInteractive(key) {\n",
              "          const element = document.querySelector('#df-6b30f1e3-4ab9-46a0-a0ef-a737fa5e74dd');\n",
              "          const dataTable =\n",
              "            await google.colab.kernel.invokeFunction('convertToInteractive',\n",
              "                                                     [key], {});\n",
              "          if (!dataTable) return;\n",
              "\n",
              "          const docLinkHtml = 'Like what you see? Visit the ' +\n",
              "            '<a target=\"_blank\" href=https://colab.research.google.com/notebooks/data_table.ipynb>data table notebook</a>'\n",
              "            + ' to learn more about interactive tables.';\n",
              "          element.innerHTML = '';\n",
              "          dataTable['output_type'] = 'display_data';\n",
              "          await google.colab.output.renderOutput(dataTable, element);\n",
              "          const docLink = document.createElement('div');\n",
              "          docLink.innerHTML = docLinkHtml;\n",
              "          element.appendChild(docLink);\n",
              "        }\n",
              "      </script>\n",
              "    </div>\n",
              "  </div>\n",
              "  "
            ],
            "text/plain": [
              "             releasedatetime townrelease          releasesubstance  quangallons\n",
              "114  2022-01-12T00:00:00.000     Norwalk               #2 FUEL OIL          0.0\n",
              "148  2022-01-10T00:00:00.000     Norwalk               #2 FUEL OIL          3.0\n",
              "187  2022-01-06T14:13:00.000     Norwalk  #2 Fuel - 275 gallon AST         50.0\n",
              "270  2021-12-30T00:00:00.000     Norwalk               #2 FUEL OIL          0.0\n",
              "277  2021-12-30T00:00:00.000     Norwalk               #2 FUEL OIL          0.0"
            ]
          },
          "metadata": {},
          "execution_count": 61
        }
      ]
    },
    {
      "cell_type": "code",
      "source": [
        "# check how Stamford data looks like\n",
        "cityS.head()"
      ],
      "metadata": {
        "colab": {
          "base_uri": "https://localhost:8080/",
          "height": 206
        },
        "id": "TFCG07NK8i_6",
        "outputId": "c33fb5ec-abe5-4e14-975e-b6bf246cd372"
      },
      "execution_count": 62,
      "outputs": [
        {
          "output_type": "execute_result",
          "data": {
            "text/html": [
              "\n",
              "  <div id=\"df-4c085ea9-f72c-4e68-98c9-b8c75328e27b\">\n",
              "    <div class=\"colab-df-container\">\n",
              "      <div>\n",
              "<style scoped>\n",
              "    .dataframe tbody tr th:only-of-type {\n",
              "        vertical-align: middle;\n",
              "    }\n",
              "\n",
              "    .dataframe tbody tr th {\n",
              "        vertical-align: top;\n",
              "    }\n",
              "\n",
              "    .dataframe thead th {\n",
              "        text-align: right;\n",
              "    }\n",
              "</style>\n",
              "<table border=\"1\" class=\"dataframe\">\n",
              "  <thead>\n",
              "    <tr style=\"text-align: right;\">\n",
              "      <th></th>\n",
              "      <th>releasedatetime</th>\n",
              "      <th>townrelease</th>\n",
              "      <th>releasesubstance</th>\n",
              "      <th>quangallons</th>\n",
              "    </tr>\n",
              "  </thead>\n",
              "  <tbody>\n",
              "    <tr>\n",
              "      <th>15</th>\n",
              "      <td>2022-01-19T00:00:00.000</td>\n",
              "      <td>Stamford</td>\n",
              "      <td>HYDRAULIC OIL</td>\n",
              "      <td>3.00</td>\n",
              "    </tr>\n",
              "    <tr>\n",
              "      <th>18</th>\n",
              "      <td>2022-01-18T21:45:00.000</td>\n",
              "      <td>Stamford</td>\n",
              "      <td>#2 Fuel - 330 gallon AST</td>\n",
              "      <td>100.00</td>\n",
              "    </tr>\n",
              "    <tr>\n",
              "      <th>182</th>\n",
              "      <td>2022-01-05T13:30:00.000</td>\n",
              "      <td>Stamford</td>\n",
              "      <td>#2 FUEL OIL</td>\n",
              "      <td>0.25</td>\n",
              "    </tr>\n",
              "    <tr>\n",
              "      <th>193</th>\n",
              "      <td>2022-01-05T00:00:00.000</td>\n",
              "      <td>Stamford</td>\n",
              "      <td>#2 fuel oil</td>\n",
              "      <td>75.00</td>\n",
              "    </tr>\n",
              "    <tr>\n",
              "      <th>220</th>\n",
              "      <td>2022-01-04T00:00:00.000</td>\n",
              "      <td>Stamford</td>\n",
              "      <td>#2 FUEL OIL</td>\n",
              "      <td>0.00</td>\n",
              "    </tr>\n",
              "  </tbody>\n",
              "</table>\n",
              "</div>\n",
              "      <button class=\"colab-df-convert\" onclick=\"convertToInteractive('df-4c085ea9-f72c-4e68-98c9-b8c75328e27b')\"\n",
              "              title=\"Convert this dataframe to an interactive table.\"\n",
              "              style=\"display:none;\">\n",
              "        \n",
              "  <svg xmlns=\"http://www.w3.org/2000/svg\" height=\"24px\"viewBox=\"0 0 24 24\"\n",
              "       width=\"24px\">\n",
              "    <path d=\"M0 0h24v24H0V0z\" fill=\"none\"/>\n",
              "    <path d=\"M18.56 5.44l.94 2.06.94-2.06 2.06-.94-2.06-.94-.94-2.06-.94 2.06-2.06.94zm-11 1L8.5 8.5l.94-2.06 2.06-.94-2.06-.94L8.5 2.5l-.94 2.06-2.06.94zm10 10l.94 2.06.94-2.06 2.06-.94-2.06-.94-.94-2.06-.94 2.06-2.06.94z\"/><path d=\"M17.41 7.96l-1.37-1.37c-.4-.4-.92-.59-1.43-.59-.52 0-1.04.2-1.43.59L10.3 9.45l-7.72 7.72c-.78.78-.78 2.05 0 2.83L4 21.41c.39.39.9.59 1.41.59.51 0 1.02-.2 1.41-.59l7.78-7.78 2.81-2.81c.8-.78.8-2.07 0-2.86zM5.41 20L4 18.59l7.72-7.72 1.47 1.35L5.41 20z\"/>\n",
              "  </svg>\n",
              "      </button>\n",
              "      \n",
              "  <style>\n",
              "    .colab-df-container {\n",
              "      display:flex;\n",
              "      flex-wrap:wrap;\n",
              "      gap: 12px;\n",
              "    }\n",
              "\n",
              "    .colab-df-convert {\n",
              "      background-color: #E8F0FE;\n",
              "      border: none;\n",
              "      border-radius: 50%;\n",
              "      cursor: pointer;\n",
              "      display: none;\n",
              "      fill: #1967D2;\n",
              "      height: 32px;\n",
              "      padding: 0 0 0 0;\n",
              "      width: 32px;\n",
              "    }\n",
              "\n",
              "    .colab-df-convert:hover {\n",
              "      background-color: #E2EBFA;\n",
              "      box-shadow: 0px 1px 2px rgba(60, 64, 67, 0.3), 0px 1px 3px 1px rgba(60, 64, 67, 0.15);\n",
              "      fill: #174EA6;\n",
              "    }\n",
              "\n",
              "    [theme=dark] .colab-df-convert {\n",
              "      background-color: #3B4455;\n",
              "      fill: #D2E3FC;\n",
              "    }\n",
              "\n",
              "    [theme=dark] .colab-df-convert:hover {\n",
              "      background-color: #434B5C;\n",
              "      box-shadow: 0px 1px 3px 1px rgba(0, 0, 0, 0.15);\n",
              "      filter: drop-shadow(0px 1px 2px rgba(0, 0, 0, 0.3));\n",
              "      fill: #FFFFFF;\n",
              "    }\n",
              "  </style>\n",
              "\n",
              "      <script>\n",
              "        const buttonEl =\n",
              "          document.querySelector('#df-4c085ea9-f72c-4e68-98c9-b8c75328e27b button.colab-df-convert');\n",
              "        buttonEl.style.display =\n",
              "          google.colab.kernel.accessAllowed ? 'block' : 'none';\n",
              "\n",
              "        async function convertToInteractive(key) {\n",
              "          const element = document.querySelector('#df-4c085ea9-f72c-4e68-98c9-b8c75328e27b');\n",
              "          const dataTable =\n",
              "            await google.colab.kernel.invokeFunction('convertToInteractive',\n",
              "                                                     [key], {});\n",
              "          if (!dataTable) return;\n",
              "\n",
              "          const docLinkHtml = 'Like what you see? Visit the ' +\n",
              "            '<a target=\"_blank\" href=https://colab.research.google.com/notebooks/data_table.ipynb>data table notebook</a>'\n",
              "            + ' to learn more about interactive tables.';\n",
              "          element.innerHTML = '';\n",
              "          dataTable['output_type'] = 'display_data';\n",
              "          await google.colab.output.renderOutput(dataTable, element);\n",
              "          const docLink = document.createElement('div');\n",
              "          docLink.innerHTML = docLinkHtml;\n",
              "          element.appendChild(docLink);\n",
              "        }\n",
              "      </script>\n",
              "    </div>\n",
              "  </div>\n",
              "  "
            ],
            "text/plain": [
              "             releasedatetime townrelease          releasesubstance  quangallons\n",
              "15   2022-01-19T00:00:00.000    Stamford             HYDRAULIC OIL         3.00\n",
              "18   2022-01-18T21:45:00.000    Stamford  #2 Fuel - 330 gallon AST       100.00\n",
              "182  2022-01-05T13:30:00.000    Stamford               #2 FUEL OIL         0.25\n",
              "193  2022-01-05T00:00:00.000    Stamford               #2 fuel oil        75.00\n",
              "220  2022-01-04T00:00:00.000    Stamford               #2 FUEL OIL         0.00"
            ]
          },
          "metadata": {},
          "execution_count": 62
        }
      ]
    },
    {
      "cell_type": "code",
      "source": [
        "# check how Enfield data looks like\n",
        "cityE.head()"
      ],
      "metadata": {
        "colab": {
          "base_uri": "https://localhost:8080/",
          "height": 206
        },
        "id": "sdGfAwnm8l46",
        "outputId": "f9e79946-fcfa-4ec2-fcb2-470f7b80299e"
      },
      "execution_count": 63,
      "outputs": [
        {
          "output_type": "execute_result",
          "data": {
            "text/html": [
              "\n",
              "  <div id=\"df-cc3a92f4-fc56-4fb1-869a-36f19dd4cb5b\">\n",
              "    <div class=\"colab-df-container\">\n",
              "      <div>\n",
              "<style scoped>\n",
              "    .dataframe tbody tr th:only-of-type {\n",
              "        vertical-align: middle;\n",
              "    }\n",
              "\n",
              "    .dataframe tbody tr th {\n",
              "        vertical-align: top;\n",
              "    }\n",
              "\n",
              "    .dataframe thead th {\n",
              "        text-align: right;\n",
              "    }\n",
              "</style>\n",
              "<table border=\"1\" class=\"dataframe\">\n",
              "  <thead>\n",
              "    <tr style=\"text-align: right;\">\n",
              "      <th></th>\n",
              "      <th>releasedatetime</th>\n",
              "      <th>townrelease</th>\n",
              "      <th>releasesubstance</th>\n",
              "      <th>quangallons</th>\n",
              "    </tr>\n",
              "  </thead>\n",
              "  <tbody>\n",
              "    <tr>\n",
              "      <th>10</th>\n",
              "      <td>2022-01-19T12:29:00.000</td>\n",
              "      <td>Enfield</td>\n",
              "      <td>Contents of (1) radiator and (1) battery</td>\n",
              "      <td>4.0</td>\n",
              "    </tr>\n",
              "    <tr>\n",
              "      <th>72</th>\n",
              "      <td>2022-01-15T14:50:00.000</td>\n",
              "      <td>Enfield</td>\n",
              "      <td>GASOLINE</td>\n",
              "      <td>0.0</td>\n",
              "    </tr>\n",
              "    <tr>\n",
              "      <th>127</th>\n",
              "      <td>2022-01-11T00:00:00.000</td>\n",
              "      <td>Enfield</td>\n",
              "      <td>ANTIFREEZE</td>\n",
              "      <td>2.0</td>\n",
              "    </tr>\n",
              "    <tr>\n",
              "      <th>132</th>\n",
              "      <td>2022-01-11T00:00:00.000</td>\n",
              "      <td>Enfield</td>\n",
              "      <td>ANTIFREEZE</td>\n",
              "      <td>5.0</td>\n",
              "    </tr>\n",
              "    <tr>\n",
              "      <th>141</th>\n",
              "      <td>2022-01-10T00:00:00.000</td>\n",
              "      <td>Enfield</td>\n",
              "      <td>MOTOR OIL</td>\n",
              "      <td>3.0</td>\n",
              "    </tr>\n",
              "  </tbody>\n",
              "</table>\n",
              "</div>\n",
              "      <button class=\"colab-df-convert\" onclick=\"convertToInteractive('df-cc3a92f4-fc56-4fb1-869a-36f19dd4cb5b')\"\n",
              "              title=\"Convert this dataframe to an interactive table.\"\n",
              "              style=\"display:none;\">\n",
              "        \n",
              "  <svg xmlns=\"http://www.w3.org/2000/svg\" height=\"24px\"viewBox=\"0 0 24 24\"\n",
              "       width=\"24px\">\n",
              "    <path d=\"M0 0h24v24H0V0z\" fill=\"none\"/>\n",
              "    <path d=\"M18.56 5.44l.94 2.06.94-2.06 2.06-.94-2.06-.94-.94-2.06-.94 2.06-2.06.94zm-11 1L8.5 8.5l.94-2.06 2.06-.94-2.06-.94L8.5 2.5l-.94 2.06-2.06.94zm10 10l.94 2.06.94-2.06 2.06-.94-2.06-.94-.94-2.06-.94 2.06-2.06.94z\"/><path d=\"M17.41 7.96l-1.37-1.37c-.4-.4-.92-.59-1.43-.59-.52 0-1.04.2-1.43.59L10.3 9.45l-7.72 7.72c-.78.78-.78 2.05 0 2.83L4 21.41c.39.39.9.59 1.41.59.51 0 1.02-.2 1.41-.59l7.78-7.78 2.81-2.81c.8-.78.8-2.07 0-2.86zM5.41 20L4 18.59l7.72-7.72 1.47 1.35L5.41 20z\"/>\n",
              "  </svg>\n",
              "      </button>\n",
              "      \n",
              "  <style>\n",
              "    .colab-df-container {\n",
              "      display:flex;\n",
              "      flex-wrap:wrap;\n",
              "      gap: 12px;\n",
              "    }\n",
              "\n",
              "    .colab-df-convert {\n",
              "      background-color: #E8F0FE;\n",
              "      border: none;\n",
              "      border-radius: 50%;\n",
              "      cursor: pointer;\n",
              "      display: none;\n",
              "      fill: #1967D2;\n",
              "      height: 32px;\n",
              "      padding: 0 0 0 0;\n",
              "      width: 32px;\n",
              "    }\n",
              "\n",
              "    .colab-df-convert:hover {\n",
              "      background-color: #E2EBFA;\n",
              "      box-shadow: 0px 1px 2px rgba(60, 64, 67, 0.3), 0px 1px 3px 1px rgba(60, 64, 67, 0.15);\n",
              "      fill: #174EA6;\n",
              "    }\n",
              "\n",
              "    [theme=dark] .colab-df-convert {\n",
              "      background-color: #3B4455;\n",
              "      fill: #D2E3FC;\n",
              "    }\n",
              "\n",
              "    [theme=dark] .colab-df-convert:hover {\n",
              "      background-color: #434B5C;\n",
              "      box-shadow: 0px 1px 3px 1px rgba(0, 0, 0, 0.15);\n",
              "      filter: drop-shadow(0px 1px 2px rgba(0, 0, 0, 0.3));\n",
              "      fill: #FFFFFF;\n",
              "    }\n",
              "  </style>\n",
              "\n",
              "      <script>\n",
              "        const buttonEl =\n",
              "          document.querySelector('#df-cc3a92f4-fc56-4fb1-869a-36f19dd4cb5b button.colab-df-convert');\n",
              "        buttonEl.style.display =\n",
              "          google.colab.kernel.accessAllowed ? 'block' : 'none';\n",
              "\n",
              "        async function convertToInteractive(key) {\n",
              "          const element = document.querySelector('#df-cc3a92f4-fc56-4fb1-869a-36f19dd4cb5b');\n",
              "          const dataTable =\n",
              "            await google.colab.kernel.invokeFunction('convertToInteractive',\n",
              "                                                     [key], {});\n",
              "          if (!dataTable) return;\n",
              "\n",
              "          const docLinkHtml = 'Like what you see? Visit the ' +\n",
              "            '<a target=\"_blank\" href=https://colab.research.google.com/notebooks/data_table.ipynb>data table notebook</a>'\n",
              "            + ' to learn more about interactive tables.';\n",
              "          element.innerHTML = '';\n",
              "          dataTable['output_type'] = 'display_data';\n",
              "          await google.colab.output.renderOutput(dataTable, element);\n",
              "          const docLink = document.createElement('div');\n",
              "          docLink.innerHTML = docLinkHtml;\n",
              "          element.appendChild(docLink);\n",
              "        }\n",
              "      </script>\n",
              "    </div>\n",
              "  </div>\n",
              "  "
            ],
            "text/plain": [
              "             releasedatetime  ... quangallons\n",
              "10   2022-01-19T12:29:00.000  ...         4.0\n",
              "72   2022-01-15T14:50:00.000  ...         0.0\n",
              "127  2022-01-11T00:00:00.000  ...         2.0\n",
              "132  2022-01-11T00:00:00.000  ...         5.0\n",
              "141  2022-01-10T00:00:00.000  ...         3.0\n",
              "\n",
              "[5 rows x 4 columns]"
            ]
          },
          "metadata": {},
          "execution_count": 63
        }
      ]
    },
    {
      "cell_type": "markdown",
      "source": [
        "### Step 2: Merge the 3 new dataframes into one"
      ],
      "metadata": {
        "id": "jqL7_2DUhFrm"
      }
    },
    {
      "cell_type": "code",
      "source": [
        "# Merge the target rows into one dataset\n",
        "# Check the shape of the data to make sure the number of total rows and column are correct\n",
        "threecity = pd.concat([cityN,cityS,cityE])\n",
        "threecity.shape"
      ],
      "metadata": {
        "id": "U4wfcZCP9LLS",
        "colab": {
          "base_uri": "https://localhost:8080/"
        },
        "outputId": "fdff2bf7-1ce9-4e0b-da69-d5fcd01feeba"
      },
      "execution_count": 64,
      "outputs": [
        {
          "output_type": "execute_result",
          "data": {
            "text/plain": [
              "(54, 4)"
            ]
          },
          "metadata": {},
          "execution_count": 64
        }
      ]
    },
    {
      "cell_type": "code",
      "source": [
        "# make sure the datatype of 'quangallons' is float\n",
        "threecity.info()"
      ],
      "metadata": {
        "colab": {
          "base_uri": "https://localhost:8080/"
        },
        "id": "-OW7_rdvhUpP",
        "outputId": "fc469090-d3eb-464b-a901-11df4b5626cd"
      },
      "execution_count": 65,
      "outputs": [
        {
          "output_type": "stream",
          "name": "stdout",
          "text": [
            "<class 'pandas.core.frame.DataFrame'>\n",
            "Int64Index: 54 entries, 114 to 831\n",
            "Data columns (total 4 columns):\n",
            " #   Column            Non-Null Count  Dtype  \n",
            "---  ------            --------------  -----  \n",
            " 0   releasedatetime   54 non-null     object \n",
            " 1   townrelease       54 non-null     object \n",
            " 2   releasesubstance  54 non-null     object \n",
            " 3   quangallons       54 non-null     float64\n",
            "dtypes: float64(1), object(3)\n",
            "memory usage: 2.1+ KB\n"
          ]
        }
      ]
    },
    {
      "cell_type": "markdown",
      "metadata": {
        "id": "kR885HgQMVb3"
      },
      "source": [
        "## Creating Optimization Models by using Brute-Force method <br>\n",
        "\n",
        "**Objective**\n",
        "\n",
        "(1) Identify an assignment of crews to cities that minimizes the sum of the repair times.<br>\n",
        "(2) Identify an assignment of crews to cities that minimizes the maximum repair time among all cities in C.<br>\n",
        "\n",
        "**Constraints** \n",
        "\n",
        "Here are the constraints for our Optimization Model. <br>\n",
        "(1) The number of crews available is ten, and each crew can only be assigned to one city.<br>\n",
        "(2) For each city, we must assign at least one crew. \n",
        "\n",
        "Subject to:<br>\n",
        "* Each city must be assigned at least one crew: <br>\n",
        "* N = Norwalk, S = Stamford, and E = Enfield\n",
        "  - `N, S, E >= 1`\n",
        "  - `N + S + E >= 3` <br>\n",
        "* Total only ten crew: `N + S + E <= 10`\n",
        "* The amount of the spill (quangallons) from three cities are: `gN+gS+gE = total_quangallons`\n",
        "* Repair time for Norwalk:     `R1 = gN / N`\n",
        "* Repair time for Stamford:    `R2 = gS / S`\n",
        "* Repair time for Enfield:     `R3 = gE/E`\n",
        "\n",
        "Objective function for two models:\n",
        "\n",
        "* Model 1 - minimizes the sum of the repair times in all cities\n",
        "  - `Min (R) = R1 + R2 + R3`\n",
        "* Model 2 - minimizes the maximum repair time among all cities in C\n",
        "  - `Min (Z) = max(R1,R2,R3)`\n",
        "\n"
      ]
    },
    {
      "cell_type": "markdown",
      "metadata": {
        "id": "B2dDC7LHMXv4"
      },
      "source": [
        "### Create Model 1:\n",
        "\n",
        "To minimize the sum of the repair times: <br>\n",
        "Min(R) = R1 + R2 + R3"
      ]
    },
    {
      "cell_type": "code",
      "source": [
        "# Create dictionaries\n",
        "# Find and sum up the amount of spill in each city respectively.\n",
        "gallon = {\n",
        "      \"Total gallons Norwalk\" : sum(threecity[threecity[\"townrelease\"] == 'Norwalk']['quangallons']),\n",
        "      \"Total gallons Enfield\" : sum(threecity[threecity[\"townrelease\"] == 'Enfield']['quangallons']),\n",
        "      \"Total gallons Stamford\" : sum(threecity[threecity[\"townrelease\"] == 'Stamford']['quangallons'])}\n",
        "print(gallon)\n",
        "\n",
        "# Sum up total spill our target cities \n",
        "total_gallon = gallon[\"Total gallons Norwalk\"] + gallon[\"Total gallons Enfield\"] + gallon[\"Total gallons Stamford\"] \n",
        "print(total_gallon)"
      ],
      "metadata": {
        "colab": {
          "base_uri": "https://localhost:8080/"
        },
        "id": "zGqVFUS7k1an",
        "outputId": "75c24334-56d8-4e19-d3b6-c1cd845492a0"
      },
      "execution_count": 66,
      "outputs": [
        {
          "output_type": "stream",
          "name": "stdout",
          "text": [
            "{'Total gallons Norwalk': 138.0, 'Total gallons Enfield': 65.0, 'Total gallons Stamford': 210.25}\n",
            "413.25\n"
          ]
        }
      ]
    },
    {
      "cell_type": "code",
      "source": [
        "# Model 1 - minimizes the sum of the repair times in all cities\n",
        "\n",
        "# List the constraints \n",
        "total_crew= 10 # each crew can be only asigned to one city\n",
        "max_one_city_crew=8 # max number of crews assgined for one city (the 2 remaining crews should be assigned to the other 2 cities )\n",
        "min_one_city_crew= (total_crew - max_one_city_crew)/2  # must assign at least one crew for each city\n",
        "\n",
        "best_totalrepairtime=5000 #We set a large number to this variable so that it won't affect and limit our total_repairtime result. \n",
        "# total_repairtime = 0\n",
        "\n",
        "# Using Brute-force search approach, we create multiple layers of loop to generate all possible combination in order to find the optimalized result.\n",
        "for crewN in range(1, max_one_city_crew + 1):    # crewN will run from range 1 to the number of exact max_one_city_crew\n",
        "  for crewE in range(1, total_crew - crewN):\n",
        "    crewS= total_crew - crewN - crewE\n",
        "\n",
        "    # Use dictionary to define the repair time for each city\n",
        "    repairtime = {\n",
        "    \"Repair time Norwalk\" : gallon[\"Total gallons Norwalk\"] / crewN,\n",
        "    \"Repair time Enfield\" : gallon[\"Total gallons Enfield\"] / crewE,\n",
        "    \"Repair time Stamford\" : gallon[\"Total gallons Stamford\"] / crewS\n",
        "    }\n",
        "    # Total repairtime is the sum of repairtime in three cities\n",
        "    # Use if condition to find the best solution\n",
        "    # Python will run all the combination and keep updating the smallest total_repairtime it can find and store the values to the best_totalrepairtime \n",
        "    total_repairtime = repairtime[\"Repair time Norwalk\"] + repairtime[\"Repair time Enfield\"] + repairtime[\"Repair time Stamford\"]\n",
        "    if total_repairtime < best_totalrepairtime:\n",
        "      best_totalrepairtime = total_repairtime\n",
        "      best_crewN = crewN\n",
        "      best_crewE = crewE\n",
        "      best_crewS = crewS\n",
        "\n",
        "# print final solution\n",
        "print(\"Minimum Repair Time:\",best_totalrepairtime)\n",
        "print(\"Number of Crews Assigned to Norwalk:\",best_crewN)\n",
        "print(\"Number of Crews Assigned to Enfield:\",best_crewE)\n",
        "print(\"Number of Crews Assigned to Stamford:\",best_crewS)"
      ],
      "metadata": {
        "colab": {
          "base_uri": "https://localhost:8080/"
        },
        "id": "HCGIjCA9mDRa",
        "outputId": "1a9a2511-dfce-4a8e-ccdf-57d292aa019e"
      },
      "execution_count": 67,
      "outputs": [
        {
          "output_type": "stream",
          "name": "stdout",
          "text": [
            "Minimum Repair Time: 119.5625\n",
            "Number of Crews Assigned to Norwalk: 4\n",
            "Number of Crews Assigned to Enfield: 2\n",
            "Number of Crews Assigned to Stamford: 4\n"
          ]
        }
      ]
    },
    {
      "cell_type": "markdown",
      "metadata": {
        "id": "qeNxMFWpMLAf"
      },
      "source": [
        "### Create Model 2: \n",
        "\n",
        "To minimizes the maximum repair time among all cities in C: <br>\n",
        "Min(R) = Min(Max(R1,R2, R3))"
      ]
    },
    {
      "cell_type": "code",
      "source": [
        "# Model 2 - minimize the maximum repairtime among 3 cities\n",
        "# Variables containing current best value and current best solution\n",
        "\n",
        "### Just set an arbitrarily very large number for Max_3\n",
        "# so that it won't affect and limit our Maximum_rt result. \n",
        "Max_3 = 5000\n",
        "\n",
        "# Using Brute-force search approach, we create multiple layers of loop to generate all possible combination in order to find the optimalized result.\n",
        "for crewN in range(1,9):  # crewN will run from range 1 to 8 inclusive, because the maximum crews we can assign to one city is only 8\n",
        "  for crewE in range(1,10 - crewN):\n",
        "    crewS =  10- crewN - crewE\n",
        "\n",
        "    # Use dictionary to define the repair time for each city\n",
        "    repairtime = {\n",
        "    \"Repair time Norwalk\" : gallon[\"Total gallons Norwalk\"] / crewN,\n",
        "    \"Repair time Enfield\" : gallon[\"Total gallons Enfield\"] / crewE,\n",
        "    \"Repair time Stamford\" : gallon[\"Total gallons Stamford\"] / crewS\n",
        "    }\n",
        "    \n",
        "    # Trying to find the maximum repair time among three cities\n",
        "    # Use if condition to find the best solution\n",
        "    # Python will run all the combination and keep updating the smallest \"maximum repair time among three cities\" it can find and store the values to the Max_3 \n",
        "\n",
        "    Maximum_rt = max(repairtime['Repair time Norwalk'],repairtime['Repair time Enfield'],repairtime['Repair time Stamford'])\n",
        "    if Maximum_rt < Max_3:\n",
        "      Max_3 = Maximum_rt\n",
        "      crewN_min = crewN\n",
        "      crewE_min = crewE\n",
        "      crewS_min = crewS\n",
        "\n",
        "print(\"Minimum of the maximum repair time among 3 cities:\",Max_3)\n",
        "print(\"Number of crews assigned to Norwalk:\",crewN_min, )#gallon[\"Total gallons Norwalk\"] / crewN_min) ### I added to check it out\n",
        "print(\"Number of crews assigned to Enfield:\",crewE_min, )#gallon[\"Total gallons Norwalk\"] / crewE_min)\n",
        "print(\"Number of crews assigned to Stamford:\",crewS_min,)#gallon[\"Total gallons Norwalk\"] / crewS_min)"
      ],
      "metadata": {
        "colab": {
          "base_uri": "https://localhost:8080/"
        },
        "id": "wFje7NTXpiP2",
        "outputId": "9b1b872d-5e00-4dc2-ca31-fe6a2f177647"
      },
      "execution_count": 72,
      "outputs": [
        {
          "output_type": "stream",
          "name": "stdout",
          "text": [
            "Minimum of the maximum repair time among 3 cities: 46.0\n",
            "Number of crews assigned to Norwalk: 3\n",
            "Number of crews assigned to Enfield: 2\n",
            "Number of crews assigned to Stamford: 5\n"
          ]
        }
      ]
    },
    {
      "cell_type": "markdown",
      "metadata": {
        "id": "QcATy5nJgLFN"
      },
      "source": [
        "## Finding & Recommendation\n",
        "\n",
        "* What can you say about the two solutions you obtained for the problem? \n",
        "\n",
        "For Model 1, we were trying to find the optimal solution that can address all the problems in the three cities efficiently. However, the amount of spills in Stamford is the highest among the three cities, and it takes longer to clean the spill and thus may cause serious environmental impact. To clean the spill as soon as possible in Stamford, we can send more crews there. In this light, for Model 2, we were trying to find the optimal solution specifically for the most time-consuming case. However, the efficiency to address the problems in other cities was reduced, the time needed to clean the spill got longer, and thus the overall repair time increased.\n",
        "\n",
        "* What would be your recommendation for CT DEEP?\n",
        "\n",
        "In order to handle the incidents in all three cities as quickly as possible, CT DEEP can take all three cities together into consideration and use the Brute-Force method to generate all the possible combinations. After comparing the results of the models, CT DEEP can select the most optimal one based on staffing and environmental impact."
      ]
    },
    {
      "cell_type": "code",
      "metadata": {
        "colab": {
          "base_uri": "https://localhost:8080/"
        },
        "id": "nDJPq60Zgfvw",
        "outputId": "09720b78-c1fd-4e88-e67e-ea857d641210"
      },
      "source": [
        "# The spill in three cities\n",
        "print(gallon)\n",
        "\n",
        "# Result from the Model 1:\n",
        "print(\"Model-1 Result: \")\n",
        "print(\"Number of crews assigned to Norwalk:\",best_crewN)\n",
        "print(\"Number of crews assigned to Enfield:\",best_crewE)\n",
        "print(\"Number of crews assigned to Stamford:\",best_crewS) \n",
        "print(\"Repair time for Norwalk:\", gallon['Total gallons Norwalk']/best_crewN)\n",
        "print(\"Repair time for Enfield:\", gallon['Total gallons Enfield']/best_crewE)\n",
        "print(\"Repair time for Stamford:\", gallon['Total gallons Stamford']/best_crewS)\n",
        "print(\"Total Repair time for all three cities:\", best_totalrepairtime)\n",
        "# Result from the Model 2:\n",
        "print(\"-------------------------------------------------------------------------- \")\n",
        "print(\"Model-2 Result: \")\n",
        "print(\"Number of crews assigned to Norwalk:\",crewN_min)\n",
        "print(\"Number of crews assigned to Enfield:\",crewE_min)\n",
        "print(\"Number of crews assigned to Stamford:\",crewS_min) \n",
        "print(\"Repair time for Norwalk:\", gallon['Total gallons Norwalk']/crewN_min)\n",
        "print(\"Repair time for Enfield:\", gallon['Total gallons Enfield']/crewE_min)\n",
        "print(\"Repair time for Stamford:\", gallon['Total gallons Stamford']/crewS_min)\n",
        "print(\"Total Repair time for all three cities:\", gallon['Total gallons Norwalk']/crewN_min +gallon['Total gallons Enfield']/crewE_min + gallon['Total gallons Stamford']/crewS_min )"
      ],
      "execution_count": 73,
      "outputs": [
        {
          "output_type": "stream",
          "name": "stdout",
          "text": [
            "{'Total gallons Norwalk': 138.0, 'Total gallons Enfield': 65.0, 'Total gallons Stamford': 210.25}\n",
            "Model-1 Result: \n",
            "Number of crews assigned to Norwalk: 4\n",
            "Number of crews assigned to Enfield: 2\n",
            "Number of crews assigned to Stamford: 4\n",
            "Repair time for Norwalk: 34.5\n",
            "Repair time for Enfield: 32.5\n",
            "Repair time for Stamford: 52.5625\n",
            "Total Repair time for all three cities: 119.5625\n",
            "-------------------------------------------------------------------------- \n",
            "Model-2 Result: \n",
            "Number of crews assigned to Norwalk: 3\n",
            "Number of crews assigned to Enfield: 2\n",
            "Number of crews assigned to Stamford: 5\n",
            "Repair time for Norwalk: 46.0\n",
            "Repair time for Enfield: 32.5\n",
            "Repair time for Stamford: 42.05\n",
            "Total Repair time for all three cities: 120.55\n"
          ]
        }
      ]
    },
    {
      "cell_type": "markdown",
      "metadata": {
        "id": "wADX89ICijMF"
      },
      "source": [
        "# Conclusion\n",
        "What we learned and any suggestions for future research:\n",
        "\n",
        "* Brute-force method helps us analyze the optimal solution but logically those optimal solutions may be ignored due to more pressing issues, environmental or staff.  \n",
        "* Merged datasets can be difficult to manipulate since the columns may have different names or the measurements may not be in the same units.\n",
        "* Before building the models, we learned that it is crucial to set all of the constraints. If we miss anything, the results of the models would be incorrect. \n",
        "*  For future research, using the entire dataset might be more beneficial, we only used 1000 entries but in the real world it would make much more sense to view the entire dataset to produce the optimal result.\n",
        "* Plots are a great tool to visualize data but when comparing two datasets that theoretically might be related can result with no correlation to one another.\n",
        "\n",
        "\n",
        "\n",
        "\n",
        "\n",
        "\n",
        "\n"
      ]
    }
  ]
}